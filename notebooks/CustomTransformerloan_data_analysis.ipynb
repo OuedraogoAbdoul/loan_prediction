{
 "cells": [
  {
   "cell_type": "markdown",
   "id": "48dd529d",
   "metadata": {},
   "source": [
    "This notebook analyzes the dataset from https://www.lendingclub.com/\n",
    "------------------------------------------------------------------------------------------------------\n",
    "\n",
    "\n"
   ]
  },
  {
   "cell_type": "markdown",
   "id": "e49a7ce3",
   "metadata": {},
   "source": [
    "\n",
    "Objectives:\n",
    "The goal is to analyse the following:\n",
    "\n",
    "    The target variable\n",
    "    Variable types (categorical and numerical)\n",
    "    Missing data\n",
    "\n",
    "    Numerical variables\n",
    "        Discrete\n",
    "        Continuous\n",
    "        Distributions\n",
    "        Transformations\n",
    "\n",
    "    Categorical variables\n",
    "        Cardinality\n",
    "        Special Labels"
   ]
  },
  {
   "cell_type": "markdown",
   "id": "b9cc7fd1",
   "metadata": {},
   "source": [
    "## Import the necessary libraries"
   ]
  },
  {
   "cell_type": "code",
   "execution_count": 1,
   "id": "31c50f91",
   "metadata": {},
   "outputs": [],
   "source": [
    "import pandas as pd\n",
    "import numpy as np\n",
    "import matplotlib.pyplot as plt\n",
    "import seaborn  as sns\n",
    "from imblearn.combine import SMOTEENN, SMOTETomek\n",
    "from imblearn.over_sampling import SMOTE\n",
    "from imblearn.under_sampling import EditedNearestNeighbours, TomekLinks\n",
    "from sklearn.impute import SimpleImputer\n",
    "from sklearn.preprocessing import StandardScaler\n",
    "from sklearn.preprocessing import MinMaxScaler\n",
    "from sklearn.preprocessing import KBinsDiscretizer\n",
    "from sklearn.impute import SimpleImputer\n",
    "import category_encoders as ce\n",
    "from category_encoders import TargetEncoder\n",
    "from sklearn.model_selection import train_test_split\n",
    "from sklearn.metrics import confusion_matrix\n",
    "from sklearn.base import BaseEstimator, TransformerMixin\n",
    "from sklearn.pipeline import Pipeline\n",
    "from sklearn.pipeline import make_pipeline\n",
    "\n",
    "\n",
    "from sklearn.svm import SVC\n",
    "from sklearn.linear_model import LogisticRegression\n",
    "from sklearn.neighbors import NearestNeighbors\n",
    "from sklearn.tree import DecisionTreeClassifier\n",
    "from sklearn.ensemble import RandomForestClassifier\n",
    "from sklearn.model_selection import GridSearchCV"
   ]
  },
  {
   "cell_type": "code",
   "execution_count": null,
   "id": "1ab7c99d",
   "metadata": {},
   "outputs": [],
   "source": []
  },
  {
   "cell_type": "markdown",
   "id": "906a8db2",
   "metadata": {},
   "source": [
    "## Read the data"
   ]
  },
  {
   "cell_type": "code",
   "execution_count": 2,
   "id": "71093414",
   "metadata": {},
   "outputs": [],
   "source": [
    "data = pd.read_csv(\"https://s3.amazonaws.com/datarobot_public_datasets/DR_Demo_Lending_Club.csv\")"
   ]
  },
  {
   "cell_type": "code",
   "execution_count": 3,
   "id": "3307e2dd",
   "metadata": {},
   "outputs": [],
   "source": [
    "X, y = None, None"
   ]
  },
  {
   "cell_type": "code",
   "execution_count": 4,
   "id": "eecbc03e",
   "metadata": {},
   "outputs": [
    {
     "data": {
      "text/html": [
       "<div>\n",
       "<style scoped>\n",
       "    .dataframe tbody tr th:only-of-type {\n",
       "        vertical-align: middle;\n",
       "    }\n",
       "\n",
       "    .dataframe tbody tr th {\n",
       "        vertical-align: top;\n",
       "    }\n",
       "\n",
       "    .dataframe thead th {\n",
       "        text-align: right;\n",
       "    }\n",
       "</style>\n",
       "<table border=\"1\" class=\"dataframe\">\n",
       "  <thead>\n",
       "    <tr style=\"text-align: right;\">\n",
       "      <th></th>\n",
       "      <th>Id</th>\n",
       "      <th>is_bad</th>\n",
       "      <th>emp_title</th>\n",
       "      <th>emp_length</th>\n",
       "      <th>home_ownership</th>\n",
       "      <th>annual_inc</th>\n",
       "      <th>verification_status</th>\n",
       "      <th>pymnt_plan</th>\n",
       "      <th>Notes</th>\n",
       "      <th>purpose_cat</th>\n",
       "      <th>...</th>\n",
       "      <th>mths_since_last_record</th>\n",
       "      <th>open_acc</th>\n",
       "      <th>pub_rec</th>\n",
       "      <th>revol_bal</th>\n",
       "      <th>revol_util</th>\n",
       "      <th>total_acc</th>\n",
       "      <th>initial_list_status</th>\n",
       "      <th>collections_12_mths_ex_med</th>\n",
       "      <th>mths_since_last_major_derog</th>\n",
       "      <th>policy_code</th>\n",
       "    </tr>\n",
       "  </thead>\n",
       "  <tbody>\n",
       "    <tr>\n",
       "      <th>850</th>\n",
       "      <td>851</td>\n",
       "      <td>0</td>\n",
       "      <td>Department of Homeland Security</td>\n",
       "      <td>4</td>\n",
       "      <td>RENT</td>\n",
       "      <td>64000.0</td>\n",
       "      <td>VERIFIED - income</td>\n",
       "      <td>n</td>\n",
       "      <td>552170 added on 10/07/09 &gt; The purpose of th...</td>\n",
       "      <td>debt consolidation</td>\n",
       "      <td>...</td>\n",
       "      <td>NaN</td>\n",
       "      <td>9.0</td>\n",
       "      <td>0.0</td>\n",
       "      <td>30803</td>\n",
       "      <td>84.4</td>\n",
       "      <td>17.0</td>\n",
       "      <td>f</td>\n",
       "      <td>0.0</td>\n",
       "      <td>2</td>\n",
       "      <td>PC3</td>\n",
       "    </tr>\n",
       "    <tr>\n",
       "      <th>6978</th>\n",
       "      <td>6979</td>\n",
       "      <td>0</td>\n",
       "      <td>Fidelity Investments</td>\n",
       "      <td>9</td>\n",
       "      <td>MORTGAGE</td>\n",
       "      <td>84575.0</td>\n",
       "      <td>VERIFIED - income</td>\n",
       "      <td>n</td>\n",
       "      <td>NaN</td>\n",
       "      <td>debt consolidation</td>\n",
       "      <td>...</td>\n",
       "      <td>NaN</td>\n",
       "      <td>12.0</td>\n",
       "      <td>0.0</td>\n",
       "      <td>21188</td>\n",
       "      <td>37.7</td>\n",
       "      <td>41.0</td>\n",
       "      <td>f</td>\n",
       "      <td>0.0</td>\n",
       "      <td>1</td>\n",
       "      <td>PC3</td>\n",
       "    </tr>\n",
       "    <tr>\n",
       "      <th>1798</th>\n",
       "      <td>1799</td>\n",
       "      <td>0</td>\n",
       "      <td>S.C.I.</td>\n",
       "      <td>6</td>\n",
       "      <td>RENT</td>\n",
       "      <td>49548.0</td>\n",
       "      <td>VERIFIED - income</td>\n",
       "      <td>n</td>\n",
       "      <td>Im gonna use the money as emergency money, an...</td>\n",
       "      <td>other</td>\n",
       "      <td>...</td>\n",
       "      <td>NaN</td>\n",
       "      <td>3.0</td>\n",
       "      <td>0.0</td>\n",
       "      <td>3511</td>\n",
       "      <td>40.4</td>\n",
       "      <td>6.0</td>\n",
       "      <td>f</td>\n",
       "      <td>0.0</td>\n",
       "      <td>2</td>\n",
       "      <td>PC2</td>\n",
       "    </tr>\n",
       "    <tr>\n",
       "      <th>4279</th>\n",
       "      <td>4280</td>\n",
       "      <td>0</td>\n",
       "      <td>Activated Ministries</td>\n",
       "      <td>4</td>\n",
       "      <td>RENT</td>\n",
       "      <td>52000.0</td>\n",
       "      <td>VERIFIED - income source</td>\n",
       "      <td>n</td>\n",
       "      <td>Borrower added on 11/02/10 &gt; I need to purch...</td>\n",
       "      <td>car</td>\n",
       "      <td>...</td>\n",
       "      <td>NaN</td>\n",
       "      <td>19.0</td>\n",
       "      <td>0.0</td>\n",
       "      <td>3058</td>\n",
       "      <td>3.2</td>\n",
       "      <td>36.0</td>\n",
       "      <td>f</td>\n",
       "      <td>0.0</td>\n",
       "      <td>2</td>\n",
       "      <td>PC2</td>\n",
       "    </tr>\n",
       "    <tr>\n",
       "      <th>486</th>\n",
       "      <td>487</td>\n",
       "      <td>0</td>\n",
       "      <td>SUPER FRESH/ A&amp;P TEA CO. INC.</td>\n",
       "      <td>10</td>\n",
       "      <td>MORTGAGE</td>\n",
       "      <td>120000.0</td>\n",
       "      <td>VERIFIED - income</td>\n",
       "      <td>n</td>\n",
       "      <td>I have good credit &amp; have always paid my bills...</td>\n",
       "      <td>other</td>\n",
       "      <td>...</td>\n",
       "      <td>NaN</td>\n",
       "      <td>10.0</td>\n",
       "      <td>0.0</td>\n",
       "      <td>78633</td>\n",
       "      <td>31.7</td>\n",
       "      <td>56.0</td>\n",
       "      <td>f</td>\n",
       "      <td>0.0</td>\n",
       "      <td>1</td>\n",
       "      <td>PC5</td>\n",
       "    </tr>\n",
       "  </tbody>\n",
       "</table>\n",
       "<p>5 rows × 28 columns</p>\n",
       "</div>"
      ],
      "text/plain": [
       "        Id  is_bad                        emp_title emp_length home_ownership  \\\n",
       "850    851       0  Department of Homeland Security          4           RENT   \n",
       "6978  6979       0             Fidelity Investments          9       MORTGAGE   \n",
       "1798  1799       0                           S.C.I.          6           RENT   \n",
       "4279  4280       0             Activated Ministries          4           RENT   \n",
       "486    487       0    SUPER FRESH/ A&P TEA CO. INC.         10       MORTGAGE   \n",
       "\n",
       "      annual_inc       verification_status pymnt_plan  \\\n",
       "850      64000.0         VERIFIED - income          n   \n",
       "6978     84575.0         VERIFIED - income          n   \n",
       "1798     49548.0         VERIFIED - income          n   \n",
       "4279     52000.0  VERIFIED - income source          n   \n",
       "486     120000.0         VERIFIED - income          n   \n",
       "\n",
       "                                                  Notes         purpose_cat  \\\n",
       "850     552170 added on 10/07/09 > The purpose of th...  debt consolidation   \n",
       "6978                                                NaN  debt consolidation   \n",
       "1798   Im gonna use the money as emergency money, an...               other   \n",
       "4279    Borrower added on 11/02/10 > I need to purch...                 car   \n",
       "486   I have good credit & have always paid my bills...               other   \n",
       "\n",
       "      ... mths_since_last_record open_acc pub_rec  revol_bal  revol_util  \\\n",
       "850   ...                    NaN      9.0     0.0      30803        84.4   \n",
       "6978  ...                    NaN     12.0     0.0      21188        37.7   \n",
       "1798  ...                    NaN      3.0     0.0       3511        40.4   \n",
       "4279  ...                    NaN     19.0     0.0       3058         3.2   \n",
       "486   ...                    NaN     10.0     0.0      78633        31.7   \n",
       "\n",
       "     total_acc  initial_list_status  collections_12_mths_ex_med  \\\n",
       "850       17.0                    f                         0.0   \n",
       "6978      41.0                    f                         0.0   \n",
       "1798       6.0                    f                         0.0   \n",
       "4279      36.0                    f                         0.0   \n",
       "486       56.0                    f                         0.0   \n",
       "\n",
       "      mths_since_last_major_derog  policy_code  \n",
       "850                             2          PC3  \n",
       "6978                            1          PC3  \n",
       "1798                            2          PC2  \n",
       "4279                            2          PC2  \n",
       "486                             1          PC5  \n",
       "\n",
       "[5 rows x 28 columns]"
      ]
     },
     "execution_count": 4,
     "metadata": {},
     "output_type": "execute_result"
    }
   ],
   "source": [
    "data.sample(5)"
   ]
  },
  {
   "cell_type": "code",
   "execution_count": 5,
   "id": "5835795a",
   "metadata": {},
   "outputs": [
    {
     "data": {
      "text/plain": [
       "(10000, 28)"
      ]
     },
     "execution_count": 5,
     "metadata": {},
     "output_type": "execute_result"
    }
   ],
   "source": [
    "data.shape"
   ]
  },
  {
   "cell_type": "code",
   "execution_count": 6,
   "id": "6d3edb97",
   "metadata": {},
   "outputs": [
    {
     "name": "stdout",
     "output_type": "stream",
     "text": [
      "['Id', 'is_bad', 'emp_title', 'emp_length', 'home_ownership', 'annual_inc', 'verification_status', 'pymnt_plan', 'Notes', 'purpose_cat', 'purpose', 'zip_code', 'addr_state', 'debt_to_income', 'delinq_2yrs', 'earliest_cr_line', 'inq_last_6mths', 'mths_since_last_delinq', 'mths_since_last_record', 'open_acc', 'pub_rec', 'revol_bal', 'revol_util', 'total_acc', 'initial_list_status', 'collections_12_mths_ex_med', 'mths_since_last_major_derog', 'policy_code']\n"
     ]
    }
   ],
   "source": [
    "original_features = list(data.columns)\n",
    "print(original_features)"
   ]
  },
  {
   "cell_type": "code",
   "execution_count": null,
   "id": "f197efcf",
   "metadata": {},
   "outputs": [],
   "source": []
  },
  {
   "cell_type": "markdown",
   "id": "f0719492",
   "metadata": {},
   "source": [
    "## Explore the target feature"
   ]
  },
  {
   "cell_type": "code",
   "execution_count": 7,
   "id": "46d7a3f6",
   "metadata": {},
   "outputs": [],
   "source": [
    "target = data['is_bad']"
   ]
  },
  {
   "cell_type": "code",
   "execution_count": 8,
   "id": "f7816bc1",
   "metadata": {},
   "outputs": [
    {
     "data": {
      "image/png": "[encoded data removed]",
      "text/plain": [
       "<Figure size 576x360 with 1 Axes>"
      ]
     },
     "metadata": {
      "needs_background": "light"
     },
     "output_type": "display_data"
    }
   ],
   "source": [
    "plt.figure(figsize=(8,5));\n",
    "sns.countplot(y=target);"
   ]
  },
  {
   "cell_type": "markdown",
   "id": "8499523a",
   "metadata": {},
   "source": [
    "The dataset is very imbalance. We will process a combination of oversampling or undersampling"
   ]
  },
  {
   "cell_type": "code",
   "execution_count": null,
   "id": "acc515a8",
   "metadata": {},
   "outputs": [],
   "source": []
  },
  {
   "cell_type": "markdown",
   "id": "133eb48b",
   "metadata": {},
   "source": [
    "## Split Variable types (categorical and numerical)"
   ]
  },
  {
   "cell_type": "code",
   "execution_count": 9,
   "id": "2ecd3398",
   "metadata": {},
   "outputs": [
    {
     "name": "stdout",
     "output_type": "stream",
     "text": [
      "['emp_title', 'emp_length', 'home_ownership', 'verification_status', 'pymnt_plan', 'Notes', 'purpose_cat', 'purpose', 'zip_code', 'addr_state', 'earliest_cr_line', 'initial_list_status', 'policy_code']\n",
      "\n",
      "length of categorical variable is 13\n"
     ]
    }
   ],
   "source": [
    "cat_vars = [var for var in data.columns if(data[var].dtypes == \"O\")]\n",
    "print(cat_vars)\n",
    "print()\n",
    "print(f\"length of categorical variable is {len(cat_vars)}\")"
   ]
  },
  {
   "cell_type": "code",
   "execution_count": null,
   "id": "bac79ec4",
   "metadata": {},
   "outputs": [],
   "source": []
  },
  {
   "cell_type": "code",
   "execution_count": 10,
   "id": "af7dc2be",
   "metadata": {},
   "outputs": [
    {
     "name": "stdout",
     "output_type": "stream",
     "text": [
      "['Id', 'is_bad', 'annual_inc', 'debt_to_income', 'delinq_2yrs', 'inq_last_6mths', 'mths_since_last_delinq', 'mths_since_last_record', 'open_acc', 'pub_rec', 'revol_bal', 'revol_util', 'total_acc', 'collections_12_mths_ex_med', 'mths_since_last_major_derog']\n",
      "\n",
      "lenght of numerical variables is 15\n"
     ]
    }
   ],
   "source": [
    "num_vars = [var for var in data.columns if(var not in cat_vars)]\n",
    "print(num_vars)\n",
    "print()\n",
    "print(f\"lenght of numerical variables is {len(num_vars)}\")"
   ]
  },
  {
   "cell_type": "code",
   "execution_count": null,
   "id": "1241c4b5",
   "metadata": {},
   "outputs": [],
   "source": []
  },
  {
   "cell_type": "markdown",
   "id": "aae395b3",
   "metadata": {},
   "source": [
    "## Explore missing data"
   ]
  },
  {
   "cell_type": "code",
   "execution_count": 11,
   "id": "82fad830",
   "metadata": {},
   "outputs": [],
   "source": [
    "missing_data = pd.concat([data.isnull().sum().sort_values(ascending=False).rename(\"missing_counts\"), data.isnull().mean().sort_values(ascending=False).rename(\"missing_percent\")], axis=1)"
   ]
  },
  {
   "cell_type": "code",
   "execution_count": 12,
   "id": "590886a2",
   "metadata": {},
   "outputs": [
    {
     "data": {
      "text/html": [
       "<div>\n",
       "<style scoped>\n",
       "    .dataframe tbody tr th:only-of-type {\n",
       "        vertical-align: middle;\n",
       "    }\n",
       "\n",
       "    .dataframe tbody tr th {\n",
       "        vertical-align: top;\n",
       "    }\n",
       "\n",
       "    .dataframe thead th {\n",
       "        text-align: right;\n",
       "    }\n",
       "</style>\n",
       "<table border=\"1\" class=\"dataframe\">\n",
       "  <thead>\n",
       "    <tr style=\"text-align: right;\">\n",
       "      <th></th>\n",
       "      <th>missing_counts</th>\n",
       "      <th>missing_percent</th>\n",
       "    </tr>\n",
       "  </thead>\n",
       "  <tbody>\n",
       "    <tr>\n",
       "      <th>mths_since_last_record</th>\n",
       "      <td>9160</td>\n",
       "      <td>0.9160</td>\n",
       "    </tr>\n",
       "    <tr>\n",
       "      <th>mths_since_last_delinq</th>\n",
       "      <td>6316</td>\n",
       "      <td>0.6316</td>\n",
       "    </tr>\n",
       "    <tr>\n",
       "      <th>Notes</th>\n",
       "      <td>3167</td>\n",
       "      <td>0.3167</td>\n",
       "    </tr>\n",
       "    <tr>\n",
       "      <th>emp_title</th>\n",
       "      <td>592</td>\n",
       "      <td>0.0592</td>\n",
       "    </tr>\n",
       "    <tr>\n",
       "      <th>collections_12_mths_ex_med</th>\n",
       "      <td>32</td>\n",
       "      <td>0.0032</td>\n",
       "    </tr>\n",
       "    <tr>\n",
       "      <th>revol_util</th>\n",
       "      <td>26</td>\n",
       "      <td>0.0026</td>\n",
       "    </tr>\n",
       "    <tr>\n",
       "      <th>earliest_cr_line</th>\n",
       "      <td>5</td>\n",
       "      <td>0.0005</td>\n",
       "    </tr>\n",
       "    <tr>\n",
       "      <th>open_acc</th>\n",
       "      <td>5</td>\n",
       "      <td>0.0005</td>\n",
       "    </tr>\n",
       "    <tr>\n",
       "      <th>pub_rec</th>\n",
       "      <td>5</td>\n",
       "      <td>0.0005</td>\n",
       "    </tr>\n",
       "    <tr>\n",
       "      <th>delinq_2yrs</th>\n",
       "      <td>5</td>\n",
       "      <td>0.0005</td>\n",
       "    </tr>\n",
       "    <tr>\n",
       "      <th>total_acc</th>\n",
       "      <td>5</td>\n",
       "      <td>0.0005</td>\n",
       "    </tr>\n",
       "    <tr>\n",
       "      <th>inq_last_6mths</th>\n",
       "      <td>5</td>\n",
       "      <td>0.0005</td>\n",
       "    </tr>\n",
       "    <tr>\n",
       "      <th>purpose</th>\n",
       "      <td>4</td>\n",
       "      <td>0.0004</td>\n",
       "    </tr>\n",
       "    <tr>\n",
       "      <th>annual_inc</th>\n",
       "      <td>1</td>\n",
       "      <td>0.0001</td>\n",
       "    </tr>\n",
       "    <tr>\n",
       "      <th>revol_bal</th>\n",
       "      <td>0</td>\n",
       "      <td>0.0000</td>\n",
       "    </tr>\n",
       "    <tr>\n",
       "      <th>initial_list_status</th>\n",
       "      <td>0</td>\n",
       "      <td>0.0000</td>\n",
       "    </tr>\n",
       "    <tr>\n",
       "      <th>mths_since_last_major_derog</th>\n",
       "      <td>0</td>\n",
       "      <td>0.0000</td>\n",
       "    </tr>\n",
       "    <tr>\n",
       "      <th>Id</th>\n",
       "      <td>0</td>\n",
       "      <td>0.0000</td>\n",
       "    </tr>\n",
       "    <tr>\n",
       "      <th>is_bad</th>\n",
       "      <td>0</td>\n",
       "      <td>0.0000</td>\n",
       "    </tr>\n",
       "    <tr>\n",
       "      <th>debt_to_income</th>\n",
       "      <td>0</td>\n",
       "      <td>0.0000</td>\n",
       "    </tr>\n",
       "    <tr>\n",
       "      <th>addr_state</th>\n",
       "      <td>0</td>\n",
       "      <td>0.0000</td>\n",
       "    </tr>\n",
       "    <tr>\n",
       "      <th>zip_code</th>\n",
       "      <td>0</td>\n",
       "      <td>0.0000</td>\n",
       "    </tr>\n",
       "    <tr>\n",
       "      <th>purpose_cat</th>\n",
       "      <td>0</td>\n",
       "      <td>0.0000</td>\n",
       "    </tr>\n",
       "    <tr>\n",
       "      <th>pymnt_plan</th>\n",
       "      <td>0</td>\n",
       "      <td>0.0000</td>\n",
       "    </tr>\n",
       "    <tr>\n",
       "      <th>verification_status</th>\n",
       "      <td>0</td>\n",
       "      <td>0.0000</td>\n",
       "    </tr>\n",
       "    <tr>\n",
       "      <th>home_ownership</th>\n",
       "      <td>0</td>\n",
       "      <td>0.0000</td>\n",
       "    </tr>\n",
       "    <tr>\n",
       "      <th>emp_length</th>\n",
       "      <td>0</td>\n",
       "      <td>0.0000</td>\n",
       "    </tr>\n",
       "    <tr>\n",
       "      <th>policy_code</th>\n",
       "      <td>0</td>\n",
       "      <td>0.0000</td>\n",
       "    </tr>\n",
       "  </tbody>\n",
       "</table>\n",
       "</div>"
      ],
      "text/plain": [
       "                             missing_counts  missing_percent\n",
       "mths_since_last_record                 9160           0.9160\n",
       "mths_since_last_delinq                 6316           0.6316\n",
       "Notes                                  3167           0.3167\n",
       "emp_title                               592           0.0592\n",
       "collections_12_mths_ex_med               32           0.0032\n",
       "revol_util                               26           0.0026\n",
       "earliest_cr_line                          5           0.0005\n",
       "open_acc                                  5           0.0005\n",
       "pub_rec                                   5           0.0005\n",
       "delinq_2yrs                               5           0.0005\n",
       "total_acc                                 5           0.0005\n",
       "inq_last_6mths                            5           0.0005\n",
       "purpose                                   4           0.0004\n",
       "annual_inc                                1           0.0001\n",
       "revol_bal                                 0           0.0000\n",
       "initial_list_status                       0           0.0000\n",
       "mths_since_last_major_derog               0           0.0000\n",
       "Id                                        0           0.0000\n",
       "is_bad                                    0           0.0000\n",
       "debt_to_income                            0           0.0000\n",
       "addr_state                                0           0.0000\n",
       "zip_code                                  0           0.0000\n",
       "purpose_cat                               0           0.0000\n",
       "pymnt_plan                                0           0.0000\n",
       "verification_status                       0           0.0000\n",
       "home_ownership                            0           0.0000\n",
       "emp_length                                0           0.0000\n",
       "policy_code                               0           0.0000"
      ]
     },
     "execution_count": 12,
     "metadata": {},
     "output_type": "execute_result"
    }
   ],
   "source": [
    "missing_data"
   ]
  },
  {
   "cell_type": "markdown",
   "id": "3b6f4582",
   "metadata": {},
   "source": [
    "We will delete any feature with more than 80% missing values"
   ]
  },
  {
   "cell_type": "code",
   "execution_count": 13,
   "id": "237f8665",
   "metadata": {},
   "outputs": [],
   "source": [
    "X = data.drop(columns=\"is_bad\")\n",
    "y = data[\"is_bad\"]"
   ]
  },
  {
   "cell_type": "code",
   "execution_count": null,
   "id": "f252fc56",
   "metadata": {},
   "outputs": [],
   "source": []
  },
  {
   "cell_type": "code",
   "execution_count": 14,
   "id": "3e4cdb0d",
   "metadata": {},
   "outputs": [],
   "source": [
    "class TemporalFeaturesExtraction(BaseEstimator, TransformerMixin):\n",
    "    def __init__(self, variables: str):\n",
    "        '''\n",
    "        Extract years ffrom datetime variable\n",
    "        \n",
    "        '''\n",
    "        self.variables = variables\n",
    "        \n",
    "        \n",
    "    def fit(self, X, y=None):\n",
    "        \n",
    "        return self\n",
    "        \n",
    "    def transform(self, X):\n",
    "        X = X.copy()\n",
    "        \n",
    "        X[self.variables] = pd.DatetimeIndex(X[self.variables]).year\n",
    "        \n",
    "        return X"
   ]
  },
  {
   "cell_type": "code",
   "execution_count": null,
   "id": "bfcb65d7",
   "metadata": {},
   "outputs": [],
   "source": []
  },
  {
   "cell_type": "code",
   "execution_count": 15,
   "id": "96633c2b",
   "metadata": {},
   "outputs": [],
   "source": [
    "class ExtractZipCode(BaseEstimator, TransformerMixin):\n",
    "    def __init__(self, variable: str):\n",
    "        self.variable = variable\n",
    "        \n",
    "    def fit(self, X, y=None):\n",
    "        return self\n",
    "    \n",
    "    \n",
    "    def transform(self, X):\n",
    "        X = X.copy()\n",
    "        \n",
    "        X[self.variable] = X[self.variable].str[:3]\n",
    "        \n",
    "        return X"
   ]
  },
  {
   "cell_type": "code",
   "execution_count": null,
   "id": "bdaa6345",
   "metadata": {},
   "outputs": [],
   "source": []
  },
  {
   "cell_type": "code",
   "execution_count": null,
   "id": "564e7c27",
   "metadata": {},
   "outputs": [],
   "source": []
  },
  {
   "cell_type": "code",
   "execution_count": 16,
   "id": "57a726f2",
   "metadata": {},
   "outputs": [],
   "source": [
    "class MissingValuesImputerWarpper(SimpleImputer):\n",
    "\n",
    "    def __init__(self):\n",
    "        self.columns = X.columns\n",
    "        \n",
    "        \n",
    "    def fit(self, X, y=None):\n",
    "        \n",
    "        \n",
    "        return self\n",
    "    \n",
    "\n",
    "    def transform(self, X):\n",
    "        imputer = SimpleImputer(missing_values = np.nan, strategy ='most_frequent')\n",
    "        imputer = imputer.fit(X)\n",
    " \n",
    "        X = imputer.transform(X)\n",
    "        \n",
    "        X = pd.DataFrame(X, columns=self.columns)\n",
    "        return X"
   ]
  },
  {
   "cell_type": "code",
   "execution_count": null,
   "id": "aa394f21",
   "metadata": {},
   "outputs": [],
   "source": []
  },
  {
   "cell_type": "code",
   "execution_count": null,
   "id": "5f0a38c3",
   "metadata": {},
   "outputs": [],
   "source": []
  },
  {
   "cell_type": "code",
   "execution_count": null,
   "id": "edb85452",
   "metadata": {},
   "outputs": [],
   "source": []
  },
  {
   "cell_type": "code",
   "execution_count": 17,
   "id": "614bd35a",
   "metadata": {},
   "outputs": [],
   "source": [
    "class ScalerWrapper(MinMaxScaler):\n",
    "        \n",
    "    def fit(self, X, y=None):\n",
    "        self.columns = X.columns.to_list()\n",
    "        return super().fit(X, y)\n",
    "    \n",
    "    \n",
    "    def transform(self, X):\n",
    "        X = X.copy()\n",
    "        \n",
    "        X = pd.DataFrame(super().transform(X), columns=self.columns)\n",
    "        \n",
    "        return X"
   ]
  },
  {
   "cell_type": "code",
   "execution_count": null,
   "id": "b7958357",
   "metadata": {},
   "outputs": [],
   "source": []
  },
  {
   "cell_type": "code",
   "execution_count": 18,
   "id": "43b47e3c",
   "metadata": {},
   "outputs": [],
   "source": [
    "class OverUnderSAMPLE(SMOTEENN, SMOTETomek, SMOTE):\n",
    "    def __init__(self):\n",
    "\n",
    "        self.y = None\n",
    "    \n",
    "        \n",
    "    def fit(self, X, y):\n",
    "        self.y = y\n",
    "        \n",
    "        return self\n",
    "    \n",
    "    \n",
    "    def transform(self, X):\n",
    "        X = X.copy()\n",
    "        \n",
    "        sm = SMOTE(sampling_strategy='auto', random_state=42, k_neighbors=5, n_jobs=4)\n",
    "        \n",
    "\n",
    "        X_sm, y_sm = sm.fit_resample(X, self.y)\n",
    "        \n",
    "        \n",
    "        tl = TomekLinks(sampling_strategy='all', n_jobs=4)\n",
    "\n",
    "        smtomek = SMOTETomek(sampling_strategy='auto',  random_state=42, smote=sm, tomek=tl, n_jobs=4)\n",
    "\n",
    "        X, self.y = smtomek.fit_resample(X, self.y)\n",
    "        \n",
    "        \n",
    "        return X, self.y #pd.concat([X, self.y], axis=1, names=list(X.columns + \"is_bad\"))"
   ]
  },
  {
   "cell_type": "code",
   "execution_count": null,
   "id": "191309f9",
   "metadata": {},
   "outputs": [],
   "source": []
  },
  {
   "cell_type": "code",
   "execution_count": null,
   "id": "f334cd2f",
   "metadata": {},
   "outputs": [],
   "source": []
  },
  {
   "cell_type": "code",
   "execution_count": null,
   "id": "c3521b67",
   "metadata": {},
   "outputs": [],
   "source": []
  },
  {
   "cell_type": "code",
   "execution_count": 19,
   "id": "54d3e15b",
   "metadata": {},
   "outputs": [],
   "source": [
    "feature_eng_pipeline = make_pipeline(\n",
    "                        MissingValuesImputerWarpper(),\n",
    "                        TemporalFeaturesExtraction(variables=\"earliest_cr_line\"), \n",
    "                        ExtractZipCode(variable=\"zip_code\"),\n",
    "                        TargetEncoder(True, handle_missing='missing', handle_unknown='missing'),\n",
    "                        ScalerWrapper(),\n",
    "                        OverUnderSAMPLE()\n",
    "                        \n",
    "                        )"
   ]
  },
  {
   "cell_type": "code",
   "execution_count": 20,
   "id": "36112f83",
   "metadata": {},
   "outputs": [
    {
     "data": {
      "text/plain": [
       "Pipeline(steps=[('missingvaluesimputerwarpper', MissingValuesImputerWarpper()),\n",
       "                ('temporalfeaturesextraction',\n",
       "                 TemporalFeaturesExtraction(variables='earliest_cr_line')),\n",
       "                ('extractzipcode', ExtractZipCode(variable='zip_code')),\n",
       "                ('targetencoder',\n",
       "                 TargetEncoder(handle_missing='missing',\n",
       "                               handle_unknown='missing', verbose=True)),\n",
       "                ('scalerwrapper', ScalerWrapper()),\n",
       "                ('overundersample', OverUnderSAMPLE())])"
      ]
     },
     "execution_count": 20,
     "metadata": {},
     "output_type": "execute_result"
    }
   ],
   "source": [
    "feature_eng_pipeline"
   ]
  },
  {
   "cell_type": "code",
   "execution_count": null,
   "id": "fa3eb9f7",
   "metadata": {},
   "outputs": [],
   "source": []
  },
  {
   "cell_type": "code",
   "execution_count": 21,
   "id": "6f3cd3f6",
   "metadata": {},
   "outputs": [],
   "source": [
    "X, y = feature_eng_pipeline.fit_transform(X, y)"
   ]
  },
  {
   "cell_type": "code",
   "execution_count": 22,
   "id": "7a30bdcc",
   "metadata": {},
   "outputs": [],
   "source": [
    "X_train, X_test, y_train, y_test = train_test_split(X, y, test_size=0.33, random_state=42)"
   ]
  },
  {
   "cell_type": "code",
   "execution_count": null,
   "id": "2c2dd60a",
   "metadata": {},
   "outputs": [],
   "source": []
  },
  {
   "cell_type": "code",
   "execution_count": null,
   "id": "462029f8",
   "metadata": {},
   "outputs": [],
   "source": []
  },
  {
   "cell_type": "code",
   "execution_count": 23,
   "id": "09a7cea7",
   "metadata": {},
   "outputs": [
    {
     "data": {
      "text/plain": [
       "0        0\n",
       "1        0\n",
       "2        0\n",
       "3        0\n",
       "4        0\n",
       "        ..\n",
       "17405    1\n",
       "17406    1\n",
       "17407    1\n",
       "17408    1\n",
       "17409    1\n",
       "Name: is_bad, Length: 17410, dtype: int64"
      ]
     },
     "execution_count": 23,
     "metadata": {},
     "output_type": "execute_result"
    }
   ],
   "source": [
    "y"
   ]
  },
  {
   "cell_type": "code",
   "execution_count": null,
   "id": "ffef0943",
   "metadata": {},
   "outputs": [],
   "source": []
  },
  {
   "cell_type": "code",
   "execution_count": 24,
   "id": "6a4309cb",
   "metadata": {},
   "outputs": [
    {
     "data": {
      "text/plain": [
       "{'max_depth': 4, 'n_estimators': 1000}"
      ]
     },
     "execution_count": 24,
     "metadata": {},
     "output_type": "execute_result"
    }
   ],
   "source": [
    "# random forests\n",
    "rf_model = RandomForestClassifier(\n",
    "    n_estimators=100, max_depth=1, random_state=0, n_jobs=4)\n",
    "\n",
    "# hyperparameter space\n",
    "rf_param_grid = dict(\n",
    "    n_estimators=[20, 50, 100, 200, 500, 1000],\n",
    "    max_depth=[2, 3, 4],\n",
    ")\n",
    "\n",
    "# search\n",
    "clf = GridSearchCV(rf_model,\n",
    "                   rf_param_grid,\n",
    "                   scoring='roc_auc',\n",
    "                   cv=5)\n",
    "\n",
    "search = clf.fit(X_train, y_train)\n",
    "\n",
    "# best hyperparameters\n",
    "search.best_params_"
   ]
  },
  {
   "cell_type": "code",
   "execution_count": null,
   "id": "1c821a5c",
   "metadata": {},
   "outputs": [],
   "source": []
  },
  {
   "cell_type": "code",
   "execution_count": 25,
   "id": "de96ace8",
   "metadata": {},
   "outputs": [],
   "source": [
    "pred = clf.predict(X_test)"
   ]
  },
  {
   "cell_type": "code",
   "execution_count": null,
   "id": "bb1624ac",
   "metadata": {},
   "outputs": [],
   "source": []
  },
  {
   "cell_type": "code",
   "execution_count": 26,
   "id": "1be82ab4",
   "metadata": {},
   "outputs": [
    {
     "data": {
      "text/html": [
       "<div>\n",
       "<style scoped>\n",
       "    .dataframe tbody tr th:only-of-type {\n",
       "        vertical-align: middle;\n",
       "    }\n",
       "\n",
       "    .dataframe tbody tr th {\n",
       "        vertical-align: top;\n",
       "    }\n",
       "\n",
       "    .dataframe thead th {\n",
       "        text-align: right;\n",
       "    }\n",
       "</style>\n",
       "<table border=\"1\" class=\"dataframe\">\n",
       "  <thead>\n",
       "    <tr style=\"text-align: right;\">\n",
       "      <th></th>\n",
       "      <th>params</th>\n",
       "      <th>mean_test_score</th>\n",
       "      <th>std_test_score</th>\n",
       "    </tr>\n",
       "  </thead>\n",
       "  <tbody>\n",
       "    <tr>\n",
       "      <th>0</th>\n",
       "      <td>{'max_depth': 2, 'n_estimators': 20}</td>\n",
       "      <td>0.967782</td>\n",
       "      <td>0.003194</td>\n",
       "    </tr>\n",
       "    <tr>\n",
       "      <th>1</th>\n",
       "      <td>{'max_depth': 2, 'n_estimators': 50}</td>\n",
       "      <td>0.973630</td>\n",
       "      <td>0.003108</td>\n",
       "    </tr>\n",
       "    <tr>\n",
       "      <th>2</th>\n",
       "      <td>{'max_depth': 2, 'n_estimators': 100}</td>\n",
       "      <td>0.975389</td>\n",
       "      <td>0.003021</td>\n",
       "    </tr>\n",
       "    <tr>\n",
       "      <th>3</th>\n",
       "      <td>{'max_depth': 2, 'n_estimators': 200}</td>\n",
       "      <td>0.975530</td>\n",
       "      <td>0.002652</td>\n",
       "    </tr>\n",
       "    <tr>\n",
       "      <th>4</th>\n",
       "      <td>{'max_depth': 2, 'n_estimators': 500}</td>\n",
       "      <td>0.975301</td>\n",
       "      <td>0.002907</td>\n",
       "    </tr>\n",
       "  </tbody>\n",
       "</table>\n",
       "</div>"
      ],
      "text/plain": [
       "                                  params  mean_test_score  std_test_score\n",
       "0   {'max_depth': 2, 'n_estimators': 20}         0.967782        0.003194\n",
       "1   {'max_depth': 2, 'n_estimators': 50}         0.973630        0.003108\n",
       "2  {'max_depth': 2, 'n_estimators': 100}         0.975389        0.003021\n",
       "3  {'max_depth': 2, 'n_estimators': 200}         0.975530        0.002652\n",
       "4  {'max_depth': 2, 'n_estimators': 500}         0.975301        0.002907"
      ]
     },
     "execution_count": 26,
     "metadata": {},
     "output_type": "execute_result"
    }
   ],
   "source": [
    "results = pd.DataFrame(search.cv_results_)[['params', 'mean_test_score', 'std_test_score']]\n",
    "\n",
    "results.head()"
   ]
  },
  {
   "cell_type": "code",
   "execution_count": null,
   "id": "bb4f9fac",
   "metadata": {},
   "outputs": [],
   "source": []
  },
  {
   "cell_type": "code",
   "execution_count": 27,
   "id": "29d4647b",
   "metadata": {},
   "outputs": [
    {
     "data": {
      "text/plain": [
       "Text(0.5, 0, 'Hyperparameter space')"
      ]
     },
     "execution_count": 27,
     "metadata": {},
     "output_type": "execute_result"
    },
    {
     "data": {
      "image/png": "[encoded data removed]",
      "text/plain": [
       "<Figure size 432x288 with 1 Axes>"
      ]
     },
     "metadata": {
      "needs_background": "light"
     },
     "output_type": "display_data"
    }
   ],
   "source": [
    "\n",
    "\n",
    "results.sort_values(by='mean_test_score', ascending=False, inplace=True)\n",
    "\n",
    "results.reset_index(drop=True, inplace=True)\n",
    "\n",
    "results['mean_test_score'].plot(yerr=[results['std_test_score'], results['std_test_score']], subplots=True)\n",
    "\n",
    "plt.ylabel('Mean ROC_AUC')\n",
    "plt.xlabel('Hyperparameter space')\n"
   ]
  },
  {
   "cell_type": "code",
   "execution_count": null,
   "id": "62fdba07",
   "metadata": {},
   "outputs": [],
   "source": []
  },
  {
   "cell_type": "code",
   "execution_count": null,
   "id": "20c2659f",
   "metadata": {},
   "outputs": [],
   "source": []
  }
 ],
 "metadata": {
  "kernelspec": {
   "display_name": "Python 3 (ipykernel)",
   "language": "python",
   "name": "python3"
  },
  "language_info": {
   "codemirror_mode": {
    "name": "ipython",
    "version": 3
   },
   "file_extension": ".py",
   "mimetype": "text/x-python",
   "name": "python",
   "nbconvert_exporter": "python",
   "pygments_lexer": "ipython3",
   "version": "3.9.7"
  }
 },
 "nbformat": 4,
 "nbformat_minor": 5
}
