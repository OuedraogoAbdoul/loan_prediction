{
 "cells": [
  {
   "cell_type": "markdown",
   "id": "48dd529d",
   "metadata": {},
   "source": [
    "This notebook analyzes the dataset from https://www.lendingclub.com/\n",
    "------------------------------------------------------------------------------------------------------\n",
    "\n",
    "\n"
   ]
  },
  {
   "cell_type": "markdown",
   "id": "e49a7ce3",
   "metadata": {},
   "source": [
    "\n",
    "Objectives:\n",
    "The goal is to analyse the following:\n",
    "\n",
    "    The target variable\n",
    "    Variable types (categorical and numerical)\n",
    "    Missing data\n",
    "\n",
    "    Numerical variables\n",
    "        Discrete\n",
    "        Continuous\n",
    "        Distributions\n",
    "        Transformations\n",
    "\n",
    "    Categorical variables\n",
    "        Cardinality\n",
    "        Special Labels"
   ]
  },
  {
   "cell_type": "markdown",
   "id": "b9cc7fd1",
   "metadata": {},
   "source": [
    "## Import the necessary libraries"
   ]
  },
  {
   "cell_type": "code",
   "execution_count": 31,
   "id": "31c50f91",
   "metadata": {},
   "outputs": [],
   "source": [
    "import pandas as pd\n",
    "import numpy as np\n",
    "import matplotlib.pyplot as plt\n",
    "import seaborn  as sns\n",
    "from imblearn.combine import SMOTEENN, SMOTETomek\n",
    "from imblearn.over_sampling import SMOTE\n",
    "from imblearn.under_sampling import EditedNearestNeighbours, TomekLinks\n",
    "from sklearn.impute import SimpleImputer\n",
    "from sklearn.preprocessing import StandardScaler\n",
    "from sklearn.preprocessing import MinMaxScaler\n",
    "from sklearn.preprocessing import KBinsDiscretizer\n",
    "from sklearn.impute import SimpleImputer\n",
    "import category_encoders as ce\n",
    "from category_encoders import TargetEncoder\n",
    "from sklearn.model_selection import train_test_split\n",
    "from sklearn.metrics import confusion_matrix\n",
    "from sklearn.base import BaseEstimator, TransformerMixin\n",
    "from sklearn.pipeline import Pipeline\n",
    "\n",
    "from sklearn.svm import SVC\n",
    "from sklearn.linear_model import LogisticRegression\n",
    "from sklearn.tree import DecisionTreeClassifier\n",
    "from sklearn.ensemble import RandomForestClassifier\n",
    "from sklearn.model_selection import GridSearchCV\n",
    "from imblearn.under_sampling import NeighbourhoodCleaningRule\n",
    "from imblearn.over_sampling import ADASYN\n",
    "from imblearn.pipeline import make_pipeline\n",
    "# from sklearn.pipeline import make_pipeline\n",
    "from sklearn.model_selection import RandomizedSearchCV\n",
    "from scipy.stats import uniform\n",
    "from scipy import stats\n",
    "import scipy\n",
    "from sklearn.metrics import classification_report\n",
    "from sklearn.metrics import plot_confusion_matrix\n",
    "from sklearn.metrics import roc_auc_score\n",
    "from sklearn.neighbors import KNeighborsClassifier \n",
    "from sklearn.ensemble import GradientBoostingClassifier\n",
    "import torch\n",
    "import torchvision\n",
    "import torchvision.transforms as transforms\n",
    "from imblearn.metrics import geometric_mean_score\n",
    "from sklearn.metrics import confusion_matrix, make_scorer\n",
    "from sklearn.model_selection import StratifiedKFold"
   ]
  },
  {
   "cell_type": "code",
   "execution_count": null,
   "id": "1ab7c99d",
   "metadata": {},
   "outputs": [],
   "source": []
  },
  {
   "cell_type": "markdown",
   "id": "906a8db2",
   "metadata": {},
   "source": [
    "## Read the data"
   ]
  },
  {
   "cell_type": "code",
   "execution_count": 2,
   "id": "71093414",
   "metadata": {},
   "outputs": [],
   "source": [
    "data = pd.read_csv(\"https://s3.amazonaws.com/datarobot_public_datasets/DR_Demo_Lending_Club.csv\")\n",
    "X_train, X_test, y_train, y_test = train_test_split(data.drop(columns=\"is_bad\"), data[\"is_bad\"], test_size=0.20, random_state=42)"
   ]
  },
  {
   "cell_type": "code",
   "execution_count": 3,
   "id": "eecbc03e",
   "metadata": {},
   "outputs": [
    {
     "data": {
      "text/html": [
       "<div>\n",
       "<style scoped>\n",
       "    .dataframe tbody tr th:only-of-type {\n",
       "        vertical-align: middle;\n",
       "    }\n",
       "\n",
       "    .dataframe tbody tr th {\n",
       "        vertical-align: top;\n",
       "    }\n",
       "\n",
       "    .dataframe thead th {\n",
       "        text-align: right;\n",
       "    }\n",
       "</style>\n",
       "<table border=\"1\" class=\"dataframe\">\n",
       "  <thead>\n",
       "    <tr style=\"text-align: right;\">\n",
       "      <th></th>\n",
       "      <th>Id</th>\n",
       "      <th>is_bad</th>\n",
       "      <th>emp_title</th>\n",
       "      <th>emp_length</th>\n",
       "      <th>home_ownership</th>\n",
       "      <th>annual_inc</th>\n",
       "      <th>verification_status</th>\n",
       "      <th>pymnt_plan</th>\n",
       "      <th>Notes</th>\n",
       "      <th>purpose_cat</th>\n",
       "      <th>...</th>\n",
       "      <th>mths_since_last_record</th>\n",
       "      <th>open_acc</th>\n",
       "      <th>pub_rec</th>\n",
       "      <th>revol_bal</th>\n",
       "      <th>revol_util</th>\n",
       "      <th>total_acc</th>\n",
       "      <th>initial_list_status</th>\n",
       "      <th>collections_12_mths_ex_med</th>\n",
       "      <th>mths_since_last_major_derog</th>\n",
       "      <th>policy_code</th>\n",
       "    </tr>\n",
       "  </thead>\n",
       "  <tbody>\n",
       "    <tr>\n",
       "      <th>2339</th>\n",
       "      <td>2340</td>\n",
       "      <td>0</td>\n",
       "      <td>MW Builders</td>\n",
       "      <td>10</td>\n",
       "      <td>MORTGAGE</td>\n",
       "      <td>90000.0</td>\n",
       "      <td>VERIFIED - income source</td>\n",
       "      <td>n</td>\n",
       "      <td>NaN</td>\n",
       "      <td>medical</td>\n",
       "      <td>...</td>\n",
       "      <td>NaN</td>\n",
       "      <td>7.0</td>\n",
       "      <td>0.0</td>\n",
       "      <td>195</td>\n",
       "      <td>8.9</td>\n",
       "      <td>21.0</td>\n",
       "      <td>f</td>\n",
       "      <td>0.0</td>\n",
       "      <td>3</td>\n",
       "      <td>PC1</td>\n",
       "    </tr>\n",
       "    <tr>\n",
       "      <th>6696</th>\n",
       "      <td>6697</td>\n",
       "      <td>1</td>\n",
       "      <td>The Ultimate Software Group, Inc</td>\n",
       "      <td>8</td>\n",
       "      <td>MORTGAGE</td>\n",
       "      <td>119000.0</td>\n",
       "      <td>VERIFIED - income source</td>\n",
       "      <td>n</td>\n",
       "      <td>NaN</td>\n",
       "      <td>debt consolidation</td>\n",
       "      <td>...</td>\n",
       "      <td>NaN</td>\n",
       "      <td>10.0</td>\n",
       "      <td>0.0</td>\n",
       "      <td>31881</td>\n",
       "      <td>98.7</td>\n",
       "      <td>23.0</td>\n",
       "      <td>f</td>\n",
       "      <td>0.0</td>\n",
       "      <td>3</td>\n",
       "      <td>PC5</td>\n",
       "    </tr>\n",
       "    <tr>\n",
       "      <th>9242</th>\n",
       "      <td>9243</td>\n",
       "      <td>0</td>\n",
       "      <td>Tuscany  Eyewear</td>\n",
       "      <td>10</td>\n",
       "      <td>RENT</td>\n",
       "      <td>84000.0</td>\n",
       "      <td>not verified</td>\n",
       "      <td>n</td>\n",
       "      <td>NaN</td>\n",
       "      <td>other</td>\n",
       "      <td>...</td>\n",
       "      <td>NaN</td>\n",
       "      <td>9.0</td>\n",
       "      <td>0.0</td>\n",
       "      <td>3001</td>\n",
       "      <td>31.9</td>\n",
       "      <td>21.0</td>\n",
       "      <td>f</td>\n",
       "      <td>0.0</td>\n",
       "      <td>3</td>\n",
       "      <td>PC1</td>\n",
       "    </tr>\n",
       "    <tr>\n",
       "      <th>6438</th>\n",
       "      <td>6439</td>\n",
       "      <td>0</td>\n",
       "      <td>Rosenbauer General Safety</td>\n",
       "      <td>2</td>\n",
       "      <td>RENT</td>\n",
       "      <td>37000.0</td>\n",
       "      <td>VERIFIED - income source</td>\n",
       "      <td>n</td>\n",
       "      <td>Borrower added on 04/22/10 &gt; My current car ...</td>\n",
       "      <td>car</td>\n",
       "      <td>...</td>\n",
       "      <td>NaN</td>\n",
       "      <td>7.0</td>\n",
       "      <td>0.0</td>\n",
       "      <td>10143</td>\n",
       "      <td>41.3</td>\n",
       "      <td>16.0</td>\n",
       "      <td>f</td>\n",
       "      <td>0.0</td>\n",
       "      <td>1</td>\n",
       "      <td>PC3</td>\n",
       "    </tr>\n",
       "    <tr>\n",
       "      <th>9212</th>\n",
       "      <td>9213</td>\n",
       "      <td>0</td>\n",
       "      <td>Sweetwater Fire Department</td>\n",
       "      <td>10</td>\n",
       "      <td>MORTGAGE</td>\n",
       "      <td>58000.0</td>\n",
       "      <td>VERIFIED - income source</td>\n",
       "      <td>n</td>\n",
       "      <td>NaN</td>\n",
       "      <td>debt consolidation</td>\n",
       "      <td>...</td>\n",
       "      <td>NaN</td>\n",
       "      <td>10.0</td>\n",
       "      <td>0.0</td>\n",
       "      <td>14893</td>\n",
       "      <td>44.2</td>\n",
       "      <td>28.0</td>\n",
       "      <td>f</td>\n",
       "      <td>0.0</td>\n",
       "      <td>3</td>\n",
       "      <td>PC3</td>\n",
       "    </tr>\n",
       "  </tbody>\n",
       "</table>\n",
       "<p>5 rows × 28 columns</p>\n",
       "</div>"
      ],
      "text/plain": [
       "        Id  is_bad                         emp_title emp_length  \\\n",
       "2339  2340       0                       MW Builders         10   \n",
       "6696  6697       1  The Ultimate Software Group, Inc          8   \n",
       "9242  9243       0                  Tuscany  Eyewear         10   \n",
       "6438  6439       0         Rosenbauer General Safety          2   \n",
       "9212  9213       0        Sweetwater Fire Department         10   \n",
       "\n",
       "     home_ownership  annual_inc       verification_status pymnt_plan  \\\n",
       "2339       MORTGAGE     90000.0  VERIFIED - income source          n   \n",
       "6696       MORTGAGE    119000.0  VERIFIED - income source          n   \n",
       "9242           RENT     84000.0              not verified          n   \n",
       "6438           RENT     37000.0  VERIFIED - income source          n   \n",
       "9212       MORTGAGE     58000.0  VERIFIED - income source          n   \n",
       "\n",
       "                                                  Notes         purpose_cat  \\\n",
       "2339                                                NaN             medical   \n",
       "6696                                                NaN  debt consolidation   \n",
       "9242                                                NaN               other   \n",
       "6438    Borrower added on 04/22/10 > My current car ...                 car   \n",
       "9212                                                NaN  debt consolidation   \n",
       "\n",
       "      ... mths_since_last_record open_acc pub_rec  revol_bal  revol_util  \\\n",
       "2339  ...                    NaN      7.0     0.0        195         8.9   \n",
       "6696  ...                    NaN     10.0     0.0      31881        98.7   \n",
       "9242  ...                    NaN      9.0     0.0       3001        31.9   \n",
       "6438  ...                    NaN      7.0     0.0      10143        41.3   \n",
       "9212  ...                    NaN     10.0     0.0      14893        44.2   \n",
       "\n",
       "     total_acc  initial_list_status  collections_12_mths_ex_med  \\\n",
       "2339      21.0                    f                         0.0   \n",
       "6696      23.0                    f                         0.0   \n",
       "9242      21.0                    f                         0.0   \n",
       "6438      16.0                    f                         0.0   \n",
       "9212      28.0                    f                         0.0   \n",
       "\n",
       "      mths_since_last_major_derog  policy_code  \n",
       "2339                            3          PC1  \n",
       "6696                            3          PC5  \n",
       "9242                            3          PC1  \n",
       "6438                            1          PC3  \n",
       "9212                            3          PC3  \n",
       "\n",
       "[5 rows x 28 columns]"
      ]
     },
     "execution_count": 3,
     "metadata": {},
     "output_type": "execute_result"
    }
   ],
   "source": [
    "data.sample(5)"
   ]
  },
  {
   "cell_type": "code",
   "execution_count": 4,
   "id": "5835795a",
   "metadata": {},
   "outputs": [
    {
     "data": {
      "text/plain": [
       "(10000, 28)"
      ]
     },
     "execution_count": 4,
     "metadata": {},
     "output_type": "execute_result"
    }
   ],
   "source": [
    "data.shape"
   ]
  },
  {
   "cell_type": "code",
   "execution_count": 5,
   "id": "6d3edb97",
   "metadata": {},
   "outputs": [
    {
     "name": "stdout",
     "output_type": "stream",
     "text": [
      "['Id', 'is_bad', 'emp_title', 'emp_length', 'home_ownership', 'annual_inc', 'verification_status', 'pymnt_plan', 'Notes', 'purpose_cat', 'purpose', 'zip_code', 'addr_state', 'debt_to_income', 'delinq_2yrs', 'earliest_cr_line', 'inq_last_6mths', 'mths_since_last_delinq', 'mths_since_last_record', 'open_acc', 'pub_rec', 'revol_bal', 'revol_util', 'total_acc', 'initial_list_status', 'collections_12_mths_ex_med', 'mths_since_last_major_derog', 'policy_code']\n"
     ]
    }
   ],
   "source": [
    "original_features = list(data.columns)\n",
    "print(original_features)"
   ]
  },
  {
   "cell_type": "code",
   "execution_count": null,
   "id": "f197efcf",
   "metadata": {},
   "outputs": [],
   "source": []
  },
  {
   "cell_type": "markdown",
   "id": "f0719492",
   "metadata": {},
   "source": [
    "## Explore the target feature"
   ]
  },
  {
   "cell_type": "code",
   "execution_count": 6,
   "id": "46d7a3f6",
   "metadata": {},
   "outputs": [],
   "source": [
    "target = data['is_bad']"
   ]
  },
  {
   "cell_type": "code",
   "execution_count": 7,
   "id": "f7816bc1",
   "metadata": {},
   "outputs": [
    {
     "data": {
      "image/png": "[encoded data removed]",
      "text/plain": [
       "<Figure size 576x360 with 1 Axes>"
      ]
     },
     "metadata": {
      "needs_background": "light"
     },
     "output_type": "display_data"
    }
   ],
   "source": [
    "plt.figure(figsize=(8,5));\n",
    "sns.countplot(y=target);"
   ]
  },
  {
   "cell_type": "markdown",
   "id": "8499523a",
   "metadata": {},
   "source": [
    "The dataset is very imbalance. We will process a combination of oversampling or undersampling"
   ]
  },
  {
   "cell_type": "code",
   "execution_count": null,
   "id": "acc515a8",
   "metadata": {},
   "outputs": [],
   "source": []
  },
  {
   "cell_type": "markdown",
   "id": "133eb48b",
   "metadata": {},
   "source": [
    "## Split Variable types (categorical and numerical)"
   ]
  },
  {
   "cell_type": "code",
   "execution_count": 8,
   "id": "2ecd3398",
   "metadata": {},
   "outputs": [
    {
     "name": "stdout",
     "output_type": "stream",
     "text": [
      "['emp_title', 'emp_length', 'home_ownership', 'verification_status', 'pymnt_plan', 'Notes', 'purpose_cat', 'purpose', 'zip_code', 'addr_state', 'earliest_cr_line', 'initial_list_status', 'policy_code']\n",
      "\n",
      "length of categorical variable is 13\n"
     ]
    }
   ],
   "source": [
    "cat_vars = [var for var in data.columns if(data[var].dtypes == \"O\")]\n",
    "print(cat_vars)\n",
    "print()\n",
    "print(f\"length of categorical variable is {len(cat_vars)}\")"
   ]
  },
  {
   "cell_type": "code",
   "execution_count": null,
   "id": "bac79ec4",
   "metadata": {},
   "outputs": [],
   "source": []
  },
  {
   "cell_type": "code",
   "execution_count": 9,
   "id": "af7dc2be",
   "metadata": {},
   "outputs": [
    {
     "name": "stdout",
     "output_type": "stream",
     "text": [
      "['Id', 'is_bad', 'annual_inc', 'debt_to_income', 'delinq_2yrs', 'inq_last_6mths', 'mths_since_last_delinq', 'mths_since_last_record', 'open_acc', 'pub_rec', 'revol_bal', 'revol_util', 'total_acc', 'collections_12_mths_ex_med', 'mths_since_last_major_derog']\n",
      "\n",
      "lenght of numerical variables is 15\n"
     ]
    }
   ],
   "source": [
    "num_vars = [var for var in data.columns if(var not in cat_vars)]\n",
    "print(num_vars)\n",
    "print()\n",
    "print(f\"lenght of numerical variables is {len(num_vars)}\")"
   ]
  },
  {
   "cell_type": "code",
   "execution_count": null,
   "id": "1241c4b5",
   "metadata": {},
   "outputs": [],
   "source": []
  },
  {
   "cell_type": "markdown",
   "id": "aae395b3",
   "metadata": {},
   "source": [
    "## Explore missing data"
   ]
  },
  {
   "cell_type": "code",
   "execution_count": 10,
   "id": "82fad830",
   "metadata": {},
   "outputs": [],
   "source": [
    "missing_data = pd.concat([data.isnull().sum().sort_values(ascending=False).rename(\"missing_counts\"), data.isnull().mean().sort_values(ascending=False).rename(\"missing_percent\")], axis=1)"
   ]
  },
  {
   "cell_type": "code",
   "execution_count": 11,
   "id": "590886a2",
   "metadata": {},
   "outputs": [
    {
     "data": {
      "text/html": [
       "<div>\n",
       "<style scoped>\n",
       "    .dataframe tbody tr th:only-of-type {\n",
       "        vertical-align: middle;\n",
       "    }\n",
       "\n",
       "    .dataframe tbody tr th {\n",
       "        vertical-align: top;\n",
       "    }\n",
       "\n",
       "    .dataframe thead th {\n",
       "        text-align: right;\n",
       "    }\n",
       "</style>\n",
       "<table border=\"1\" class=\"dataframe\">\n",
       "  <thead>\n",
       "    <tr style=\"text-align: right;\">\n",
       "      <th></th>\n",
       "      <th>missing_counts</th>\n",
       "      <th>missing_percent</th>\n",
       "    </tr>\n",
       "  </thead>\n",
       "  <tbody>\n",
       "    <tr>\n",
       "      <th>mths_since_last_record</th>\n",
       "      <td>9160</td>\n",
       "      <td>0.9160</td>\n",
       "    </tr>\n",
       "    <tr>\n",
       "      <th>mths_since_last_delinq</th>\n",
       "      <td>6316</td>\n",
       "      <td>0.6316</td>\n",
       "    </tr>\n",
       "    <tr>\n",
       "      <th>Notes</th>\n",
       "      <td>3167</td>\n",
       "      <td>0.3167</td>\n",
       "    </tr>\n",
       "    <tr>\n",
       "      <th>emp_title</th>\n",
       "      <td>592</td>\n",
       "      <td>0.0592</td>\n",
       "    </tr>\n",
       "    <tr>\n",
       "      <th>collections_12_mths_ex_med</th>\n",
       "      <td>32</td>\n",
       "      <td>0.0032</td>\n",
       "    </tr>\n",
       "    <tr>\n",
       "      <th>revol_util</th>\n",
       "      <td>26</td>\n",
       "      <td>0.0026</td>\n",
       "    </tr>\n",
       "    <tr>\n",
       "      <th>earliest_cr_line</th>\n",
       "      <td>5</td>\n",
       "      <td>0.0005</td>\n",
       "    </tr>\n",
       "    <tr>\n",
       "      <th>open_acc</th>\n",
       "      <td>5</td>\n",
       "      <td>0.0005</td>\n",
       "    </tr>\n",
       "    <tr>\n",
       "      <th>pub_rec</th>\n",
       "      <td>5</td>\n",
       "      <td>0.0005</td>\n",
       "    </tr>\n",
       "    <tr>\n",
       "      <th>delinq_2yrs</th>\n",
       "      <td>5</td>\n",
       "      <td>0.0005</td>\n",
       "    </tr>\n",
       "    <tr>\n",
       "      <th>total_acc</th>\n",
       "      <td>5</td>\n",
       "      <td>0.0005</td>\n",
       "    </tr>\n",
       "    <tr>\n",
       "      <th>inq_last_6mths</th>\n",
       "      <td>5</td>\n",
       "      <td>0.0005</td>\n",
       "    </tr>\n",
       "    <tr>\n",
       "      <th>purpose</th>\n",
       "      <td>4</td>\n",
       "      <td>0.0004</td>\n",
       "    </tr>\n",
       "    <tr>\n",
       "      <th>annual_inc</th>\n",
       "      <td>1</td>\n",
       "      <td>0.0001</td>\n",
       "    </tr>\n",
       "    <tr>\n",
       "      <th>revol_bal</th>\n",
       "      <td>0</td>\n",
       "      <td>0.0000</td>\n",
       "    </tr>\n",
       "    <tr>\n",
       "      <th>initial_list_status</th>\n",
       "      <td>0</td>\n",
       "      <td>0.0000</td>\n",
       "    </tr>\n",
       "    <tr>\n",
       "      <th>mths_since_last_major_derog</th>\n",
       "      <td>0</td>\n",
       "      <td>0.0000</td>\n",
       "    </tr>\n",
       "    <tr>\n",
       "      <th>Id</th>\n",
       "      <td>0</td>\n",
       "      <td>0.0000</td>\n",
       "    </tr>\n",
       "    <tr>\n",
       "      <th>is_bad</th>\n",
       "      <td>0</td>\n",
       "      <td>0.0000</td>\n",
       "    </tr>\n",
       "    <tr>\n",
       "      <th>debt_to_income</th>\n",
       "      <td>0</td>\n",
       "      <td>0.0000</td>\n",
       "    </tr>\n",
       "    <tr>\n",
       "      <th>addr_state</th>\n",
       "      <td>0</td>\n",
       "      <td>0.0000</td>\n",
       "    </tr>\n",
       "    <tr>\n",
       "      <th>zip_code</th>\n",
       "      <td>0</td>\n",
       "      <td>0.0000</td>\n",
       "    </tr>\n",
       "    <tr>\n",
       "      <th>purpose_cat</th>\n",
       "      <td>0</td>\n",
       "      <td>0.0000</td>\n",
       "    </tr>\n",
       "    <tr>\n",
       "      <th>pymnt_plan</th>\n",
       "      <td>0</td>\n",
       "      <td>0.0000</td>\n",
       "    </tr>\n",
       "    <tr>\n",
       "      <th>verification_status</th>\n",
       "      <td>0</td>\n",
       "      <td>0.0000</td>\n",
       "    </tr>\n",
       "    <tr>\n",
       "      <th>home_ownership</th>\n",
       "      <td>0</td>\n",
       "      <td>0.0000</td>\n",
       "    </tr>\n",
       "    <tr>\n",
       "      <th>emp_length</th>\n",
       "      <td>0</td>\n",
       "      <td>0.0000</td>\n",
       "    </tr>\n",
       "    <tr>\n",
       "      <th>policy_code</th>\n",
       "      <td>0</td>\n",
       "      <td>0.0000</td>\n",
       "    </tr>\n",
       "  </tbody>\n",
       "</table>\n",
       "</div>"
      ],
      "text/plain": [
       "                             missing_counts  missing_percent\n",
       "mths_since_last_record                 9160           0.9160\n",
       "mths_since_last_delinq                 6316           0.6316\n",
       "Notes                                  3167           0.3167\n",
       "emp_title                               592           0.0592\n",
       "collections_12_mths_ex_med               32           0.0032\n",
       "revol_util                               26           0.0026\n",
       "earliest_cr_line                          5           0.0005\n",
       "open_acc                                  5           0.0005\n",
       "pub_rec                                   5           0.0005\n",
       "delinq_2yrs                               5           0.0005\n",
       "total_acc                                 5           0.0005\n",
       "inq_last_6mths                            5           0.0005\n",
       "purpose                                   4           0.0004\n",
       "annual_inc                                1           0.0001\n",
       "revol_bal                                 0           0.0000\n",
       "initial_list_status                       0           0.0000\n",
       "mths_since_last_major_derog               0           0.0000\n",
       "Id                                        0           0.0000\n",
       "is_bad                                    0           0.0000\n",
       "debt_to_income                            0           0.0000\n",
       "addr_state                                0           0.0000\n",
       "zip_code                                  0           0.0000\n",
       "purpose_cat                               0           0.0000\n",
       "pymnt_plan                                0           0.0000\n",
       "verification_status                       0           0.0000\n",
       "home_ownership                            0           0.0000\n",
       "emp_length                                0           0.0000\n",
       "policy_code                               0           0.0000"
      ]
     },
     "execution_count": 11,
     "metadata": {},
     "output_type": "execute_result"
    }
   ],
   "source": [
    "missing_data"
   ]
  },
  {
   "cell_type": "markdown",
   "id": "3b6f4582",
   "metadata": {},
   "source": [
    "We will delete any feature with more than 80% missing values"
   ]
  },
  {
   "cell_type": "code",
   "execution_count": null,
   "id": "f252fc56",
   "metadata": {},
   "outputs": [],
   "source": []
  },
  {
   "cell_type": "code",
   "execution_count": 12,
   "id": "3e4cdb0d",
   "metadata": {},
   "outputs": [],
   "source": [
    "class TemporalFeaturesExtraction(BaseEstimator, TransformerMixin):\n",
    "    def __init__(self, variables: str):\n",
    "        '''\n",
    "        Extract years ffrom datetime variable\n",
    "        \n",
    "        '''\n",
    "        self.variables = variables\n",
    "        \n",
    "        \n",
    "    def fit(self, X, y=None):\n",
    "        \n",
    "        return self\n",
    "        \n",
    "    def transform(self, X):\n",
    "        X = X.copy()\n",
    "        \n",
    "        X[self.variables] = pd.DatetimeIndex(X[self.variables]).year\n",
    "        \n",
    "        return X"
   ]
  },
  {
   "cell_type": "code",
   "execution_count": null,
   "id": "bfcb65d7",
   "metadata": {},
   "outputs": [],
   "source": []
  },
  {
   "cell_type": "code",
   "execution_count": 13,
   "id": "96633c2b",
   "metadata": {},
   "outputs": [],
   "source": [
    "class ExtractZipCode(BaseEstimator, TransformerMixin):\n",
    "#     def __init__(self):\n",
    "#         self.variable = variable\n",
    "        \n",
    "    def fit(self, X, y=None):\n",
    "        return self\n",
    "    \n",
    "    \n",
    "    def transform(self, X):\n",
    "        X = X.copy()\n",
    "        \n",
    "        X.zip_code = X.zip_code.str[:3]\n",
    "        \n",
    "        return X"
   ]
  },
  {
   "cell_type": "code",
   "execution_count": null,
   "id": "bdaa6345",
   "metadata": {},
   "outputs": [],
   "source": []
  },
  {
   "cell_type": "code",
   "execution_count": null,
   "id": "564e7c27",
   "metadata": {},
   "outputs": [],
   "source": []
  },
  {
   "cell_type": "code",
   "execution_count": 14,
   "id": "57a726f2",
   "metadata": {},
   "outputs": [],
   "source": [
    "class MissingValuesImputerWarpper(SimpleImputer):\n",
    "\n",
    "#     def __init__(self):\n",
    "        \n",
    "        \n",
    "        \n",
    "    def fit(self, X, y=None):\n",
    "        \n",
    "        \n",
    "        return self\n",
    "    \n",
    "\n",
    "    def transform(self, X):\n",
    "        self.columns = X.columns\n",
    "        imputer = SimpleImputer(missing_values = np.nan, strategy ='most_frequent')\n",
    "        imputer = imputer.fit(X)\n",
    " \n",
    "        X = imputer.transform(X)\n",
    "        \n",
    "        X = pd.DataFrame(X, columns=self.columns)\n",
    "        return X"
   ]
  },
  {
   "cell_type": "code",
   "execution_count": null,
   "id": "edb85452",
   "metadata": {},
   "outputs": [],
   "source": []
  },
  {
   "cell_type": "code",
   "execution_count": 15,
   "id": "614bd35a",
   "metadata": {},
   "outputs": [],
   "source": [
    "class ScalerWrapper(MinMaxScaler):\n",
    "        \n",
    "    def fit(self, X, y=None):\n",
    "        self.columns = X.columns.to_list()\n",
    "        return super().fit(X, y)\n",
    "    \n",
    "    \n",
    "    def transform(self, X):\n",
    "        X = X.copy()\n",
    "        \n",
    "        X = pd.DataFrame(super().transform(X), columns=self.columns)\n",
    "        \n",
    "        return X"
   ]
  },
  {
   "cell_type": "code",
   "execution_count": null,
   "id": "b7958357",
   "metadata": {},
   "outputs": [],
   "source": []
  },
  {
   "cell_type": "code",
   "execution_count": 16,
   "id": "43b47e3c",
   "metadata": {},
   "outputs": [],
   "source": [
    "class OverUnderSAMPLE(SMOTEENN, SMOTETomek, SMOTE):\n",
    "    def __init__(self):\n",
    "\n",
    "        self.y = None\n",
    "    \n",
    "        \n",
    "    def fit(self, X, y=None):\n",
    "        self.y = y\n",
    "        \n",
    "        return self\n",
    "    \n",
    "    \n",
    "    def transform(self, X):\n",
    "        X = X.copy()\n",
    "        \n",
    "        sm = SMOTE(sampling_strategy='auto', random_state=42, k_neighbors=5, n_jobs=4)\n",
    "        \n",
    "\n",
    "        X_sm, y_sm = sm.fit_resample(X, self.y)\n",
    "        \n",
    "        \n",
    "        tl = TomekLinks(sampling_strategy='all', n_jobs=4)\n",
    "\n",
    "        smtomek = SMOTETomek(sampling_strategy='auto',  random_state=42, smote=sm, tomek=tl, n_jobs=4)\n",
    "\n",
    "        X, self.y = smtomek.fit_resample(X, self.y)\n",
    "        \n",
    "        \n",
    "        return X, self.y #pd.concat([X, self.y], axis=1, names=list(X.columns + \"is_bad\"))"
   ]
  },
  {
   "cell_type": "code",
   "execution_count": null,
   "id": "c3521b67",
   "metadata": {},
   "outputs": [],
   "source": []
  },
  {
   "cell_type": "code",
   "execution_count": 17,
   "id": "54d3e15b",
   "metadata": {},
   "outputs": [],
   "source": [
    "feature_eng_pipeline = make_pipeline(\n",
    "#                         MissingValuesImputerWarpper(),\n",
    "                        TemporalFeaturesExtraction(variables=\"earliest_cr_line\"), \n",
    "                        ExtractZipCode(),\n",
    "                        TargetEncoder(True, handle_missing='missing', handle_unknown='missing'),\n",
    "                        ScalerWrapper(),\n",
    "                        MissingValuesImputerWarpper(),\n",
    "                        \n",
    "                        )"
   ]
  },
  {
   "cell_type": "code",
   "execution_count": null,
   "id": "d1f6767a",
   "metadata": {},
   "outputs": [],
   "source": []
  },
  {
   "cell_type": "code",
   "execution_count": null,
   "id": "18705fbd",
   "metadata": {},
   "outputs": [],
   "source": []
  },
  {
   "cell_type": "code",
   "execution_count": 18,
   "id": "ac9b0d39",
   "metadata": {},
   "outputs": [],
   "source": [
    "# adasyn\n",
    "\n",
    "adasyn = ADASYN(\n",
    "        sampling_strategy='auto',  # samples only the minority class\n",
    "        random_state=0,  # for reproducibility\n",
    "        n_neighbors=5,\n",
    "        n_jobs=4,\n",
    ")\n",
    "\n",
    "###################\n",
    "## IMPORTANT  \n",
    "##################=\n",
    "\n",
    "# The sampling strategy needs to be set to all, or with\n",
    "# a specific dictionary, because after ADASYN, our\n",
    "# previous minority class is no longer minority!!\n",
    "\n",
    "ncr = NeighbourhoodCleaningRule(\n",
    "    sampling_strategy='all',# undersamples all classes\n",
    "    n_neighbors=3, \n",
    "    kind_sel='mode', \n",
    "    threshold_cleaning=0.1, # the threshold to evaluate a class for cleaning (used only for clearning step)\n",
    ") \n",
    "\n"
   ]
  },
  {
   "cell_type": "code",
   "execution_count": 19,
   "id": "a9a67bda",
   "metadata": {},
   "outputs": [],
   "source": [
    "sm = SMOTE(sampling_strategy='auto', random_state=42, k_neighbors=5, n_jobs=4)\n",
    "\n",
    "\n",
    "tl = TomekLinks(sampling_strategy='all', n_jobs=4)\n",
    "\n",
    "smtomek = SMOTETomek(sampling_strategy='auto',  random_state=42, smote=sm, tomek=tl, n_jobs=4)\n",
    "\n",
    "\n"
   ]
  },
  {
   "cell_type": "code",
   "execution_count": 20,
   "id": "c92c81f6",
   "metadata": {},
   "outputs": [],
   "source": [
    "###########NN######################"
   ]
  },
  {
   "cell_type": "code",
   "execution_count": 21,
   "id": "69b9f3d0",
   "metadata": {},
   "outputs": [],
   "source": [
    "def gmean(y_true, y_pred):\n",
    "    \n",
    "    result = geometric_mean_score(y_true, y_pred)\n",
    "        \n",
    "    return result  \n",
    "\n"
   ]
  },
  {
   "cell_type": "code",
   "execution_count": 22,
   "id": "81c7120a",
   "metadata": {},
   "outputs": [],
   "source": [
    "\n",
    "\n",
    "gmean_score = make_scorer(\n",
    "    gmean,\n",
    "    greater_is_better=False, # smaller is better\n",
    "    needs_proba=False,\n",
    ")\n",
    "\n"
   ]
  },
  {
   "cell_type": "code",
   "execution_count": null,
   "id": "e969299a",
   "metadata": {},
   "outputs": [],
   "source": [
    "\n"
   ]
  },
  {
   "cell_type": "code",
   "execution_count": 23,
   "id": "7109da1c",
   "metadata": {},
   "outputs": [],
   "source": [
    "model_list = [SVC(), RandomForestClassifier(), GradientBoostingClassifier(), KNeighborsClassifier(), LogisticRegression()]"
   ]
  },
  {
   "cell_type": "code",
   "execution_count": 24,
   "id": "85b25af3",
   "metadata": {
    "scrolled": false
   },
   "outputs": [
    {
     "name": "stdout",
     "output_type": "stream",
     "text": [
      "svc\n",
      "\n",
      "Test roc_auc:  0.6014548084611777\n",
      "\n",
      "The geometric mean is 0.583\n",
      "\n",
      "###########################\n",
      "                     0           1  accuracy    macro avg  weighted avg\n",
      "precision     0.896671    0.222222    0.7085     0.559447      0.804609\n",
      "recall        0.748697    0.454212    0.7085     0.601455      0.708500\n",
      "f1-score      0.816030    0.298436    0.7085     0.557233      0.745379\n",
      "support    1727.000000  273.000000    0.7085  2000.000000   2000.000000\n",
      "@@@@@@@@@@@@@@@@@@@@@@@@@@@@@@@@@@@@@@@@@@@@@@\n",
      "\n"
     ]
    },
    {
     "name": "stderr",
     "output_type": "stream",
     "text": [
      "/home/main/anaconda3/lib/python3.9/site-packages/sklearn/utils/deprecation.py:87: FutureWarning: Function plot_confusion_matrix is deprecated; Function `plot_confusion_matrix` is deprecated in 1.0 and will be removed in 1.2. Use one of the class methods: ConfusionMatrixDisplay.from_predictions or ConfusionMatrixDisplay.from_estimator.\n",
      "  warnings.warn(msg, category=FutureWarning)\n"
     ]
    },
    {
     "data": {
      "image/png": "[encoded data removed]",
      "text/plain": [
       "<Figure size 1440x720 with 2 Axes>"
      ]
     },
     "metadata": {
      "needs_background": "light"
     },
     "output_type": "display_data"
    },
    {
     "name": "stdout",
     "output_type": "stream",
     "text": [
      "randomforestclassifier\n",
      "\n",
      "Test roc_auc:  0.5731275094332419\n",
      "\n",
      "The geometric mean is 0.442\n",
      "\n",
      "###########################\n",
      "                     0           1  accuracy    macro avg  weighted avg\n",
      "precision     0.882289    0.345455     0.838     0.613872      0.809011\n",
      "recall        0.937464    0.208791     0.838     0.573128      0.838000\n",
      "f1-score      0.909040    0.260274     0.838     0.584657      0.820483\n",
      "support    1727.000000  273.000000     0.838  2000.000000   2000.000000\n",
      "@@@@@@@@@@@@@@@@@@@@@@@@@@@@@@@@@@@@@@@@@@@@@@\n",
      "\n"
     ]
    },
    {
     "name": "stderr",
     "output_type": "stream",
     "text": [
      "/home/main/anaconda3/lib/python3.9/site-packages/sklearn/utils/deprecation.py:87: FutureWarning: Function plot_confusion_matrix is deprecated; Function `plot_confusion_matrix` is deprecated in 1.0 and will be removed in 1.2. Use one of the class methods: ConfusionMatrixDisplay.from_predictions or ConfusionMatrixDisplay.from_estimator.\n",
      "  warnings.warn(msg, category=FutureWarning)\n"
     ]
    },
    {
     "data": {
      "image/png": "[encoded data removed]",
      "text/plain": [
       "<Figure size 1440x720 with 2 Axes>"
      ]
     },
     "metadata": {
      "needs_background": "light"
     },
     "output_type": "display_data"
    },
    {
     "name": "stdout",
     "output_type": "stream",
     "text": [
      "gradientboostingclassifier\n",
      "\n",
      "Test roc_auc:  0.5889312386127673\n",
      "\n",
      "The geometric mean is 0.481\n",
      "\n",
      "###########################\n",
      "                     0           1  accuracy    macro avg  weighted avg\n",
      "precision     0.886678    0.356021     0.836     0.621349      0.814243\n",
      "recall        0.928778    0.249084     0.836     0.588931      0.836000\n",
      "f1-score      0.907240    0.293103     0.836     0.600172      0.823410\n",
      "support    1727.000000  273.000000     0.836  2000.000000   2000.000000\n",
      "@@@@@@@@@@@@@@@@@@@@@@@@@@@@@@@@@@@@@@@@@@@@@@\n",
      "\n"
     ]
    },
    {
     "name": "stderr",
     "output_type": "stream",
     "text": [
      "/home/main/anaconda3/lib/python3.9/site-packages/sklearn/utils/deprecation.py:87: FutureWarning: Function plot_confusion_matrix is deprecated; Function `plot_confusion_matrix` is deprecated in 1.0 and will be removed in 1.2. Use one of the class methods: ConfusionMatrixDisplay.from_predictions or ConfusionMatrixDisplay.from_estimator.\n",
      "  warnings.warn(msg, category=FutureWarning)\n"
     ]
    },
    {
     "data": {
      "image/png": "[encoded data removed]",
      "text/plain": [
       "<Figure size 1440x720 with 2 Axes>"
      ]
     },
     "metadata": {
      "needs_background": "light"
     },
     "output_type": "display_data"
    },
    {
     "name": "stdout",
     "output_type": "stream",
     "text": [
      "kneighborsclassifier\n",
      "\n",
      "Test roc_auc:  0.554659777589714\n",
      "\n",
      "The geometric mean is 0.542\n",
      "\n",
      "###########################\n",
      "                     0           1  accuracy    macro avg  weighted avg\n",
      "precision     0.883068    0.174231     0.641     0.528649      0.786311\n",
      "recall        0.673422    0.435897     0.641     0.554660      0.641000\n",
      "f1-score      0.764126    0.248954     0.641     0.506540      0.693805\n",
      "support    1727.000000  273.000000     0.641  2000.000000   2000.000000\n",
      "@@@@@@@@@@@@@@@@@@@@@@@@@@@@@@@@@@@@@@@@@@@@@@\n",
      "\n"
     ]
    },
    {
     "name": "stderr",
     "output_type": "stream",
     "text": [
      "/home/main/anaconda3/lib/python3.9/site-packages/sklearn/utils/deprecation.py:87: FutureWarning: Function plot_confusion_matrix is deprecated; Function `plot_confusion_matrix` is deprecated in 1.0 and will be removed in 1.2. Use one of the class methods: ConfusionMatrixDisplay.from_predictions or ConfusionMatrixDisplay.from_estimator.\n",
      "  warnings.warn(msg, category=FutureWarning)\n"
     ]
    },
    {
     "data": {
      "image/png": "[encoded data removed]",
      "text/plain": [
       "<Figure size 1440x720 with 2 Axes>"
      ]
     },
     "metadata": {
      "needs_background": "light"
     },
     "output_type": "display_data"
    },
    {
     "name": "stdout",
     "output_type": "stream",
     "text": [
      "logisticregression\n",
      "\n",
      "Test roc_auc:  0.5923980478120606\n",
      "\n",
      "The geometric mean is 0.569\n",
      "\n",
      "###########################\n",
      "                     0           1  accuracy    macro avg  weighted avg\n",
      "precision     0.893297    0.217472    0.7115     0.555384      0.801047\n",
      "recall        0.756225    0.428571    0.7115     0.592398      0.711500\n",
      "f1-score      0.819066    0.288533    0.7115     0.553799      0.746648\n",
      "support    1727.000000  273.000000    0.7115  2000.000000   2000.000000\n",
      "@@@@@@@@@@@@@@@@@@@@@@@@@@@@@@@@@@@@@@@@@@@@@@\n",
      "\n"
     ]
    },
    {
     "name": "stderr",
     "output_type": "stream",
     "text": [
      "/home/main/anaconda3/lib/python3.9/site-packages/sklearn/utils/deprecation.py:87: FutureWarning: Function plot_confusion_matrix is deprecated; Function `plot_confusion_matrix` is deprecated in 1.0 and will be removed in 1.2. Use one of the class methods: ConfusionMatrixDisplay.from_predictions or ConfusionMatrixDisplay.from_estimator.\n",
      "  warnings.warn(msg, category=FutureWarning)\n"
     ]
    },
    {
     "data": {
      "image/png": "[encoded data removed]",
      "text/plain": [
       "<Figure size 1440x720 with 2 Axes>"
      ]
     },
     "metadata": {
      "needs_background": "light"
     },
     "output_type": "display_data"
    }
   ],
   "source": [
    "import matplotlib\n",
    "for model in model_list:\n",
    "    model_name = f\"{model}\".lower().split(\"()\")[0]\n",
    "    model_name = model\n",
    "    \n",
    "    print(f\"{model}\".lower().split(\"()\")[0])\n",
    "    \n",
    "    model_pipe = make_pipeline(\n",
    "            TemporalFeaturesExtraction(variables=\"earliest_cr_line\"), \n",
    "            ExtractZipCode(),\n",
    "            TargetEncoder(True, handle_missing='missing', handle_unknown='missing'),\n",
    "            ScalerWrapper(),\n",
    "            MissingValuesImputerWarpper(),\n",
    "            adasyn,\n",
    "            ncr,\n",
    "            model_name\n",
    "    #         sm,\n",
    "    #         tl,\n",
    "    #         smtomek, \n",
    "    #     RandomForestClassifier(\n",
    "    #             n_estimators=100, random_state=39, max_depth=3, n_jobs=4\n",
    "    #         ),\n",
    "\n",
    "    )\n",
    "    \n",
    "    clf = model_pipe.fit(X_train, y_train) \n",
    "    \n",
    "    X_test_preds = clf.predict(X_test)\n",
    "\n",
    "    print()\n",
    "    print('Test roc_auc: ', roc_auc_score(y_test, X_test_preds))\n",
    "    print()\n",
    "    print(f\"The geometric mean is {geometric_mean_score(y_test, X_test_preds):.3f}\")\n",
    "    print()\n",
    "    print(\"###########################\")\n",
    "    clf_report_ = pd.DataFrame(classification_report(y_test, X_test_preds, output_dict=True))\n",
    "    print(clf_report_)\n",
    "    print(\"@@@@@@@@@@@@@@@@@@@@@@@@@@@@@@@@@@@@@@@@@@@@@@\")\n",
    "    print()\n",
    "\n",
    "\n",
    "    matplotlib.rc('figure', figsize=(20, 10));\n",
    "\n",
    "    plot_confusion_matrix(clf, X_test, y_test);\n",
    "    plt.show();"
   ]
  },
  {
   "cell_type": "code",
   "execution_count": null,
   "id": "2d8f9e38",
   "metadata": {},
   "outputs": [],
   "source": []
  },
  {
   "cell_type": "code",
   "execution_count": null,
   "id": "56f9cf31",
   "metadata": {},
   "outputs": [],
   "source": []
  },
  {
   "cell_type": "code",
   "execution_count": 25,
   "id": "d73a19fc",
   "metadata": {},
   "outputs": [],
   "source": [
    "param_grid = {'svc__C': scipy.stats.expon(scale=120),\n",
    "              'svc__gamma': scipy.stats.expon(scale=.1),\n",
    "              'svc__kernel': ['rbf','sigmoid', 'precomputed'], \n",
    "              'svc__class_weight':['balanced', None]\n",
    "              \n",
    "             }\n",
    "\n",
    "# param_grid = dict(\n",
    "#     svc__C = stats.randint(10, 15),\n",
    "# #     svc__gamma = stats.uniform(0, 1),\n",
    "#     svc__kernel=('rbf'),\n",
    "#     )\n",
    "\n",
    "\n",
    "\n",
    "# param_grid = [\n",
    "#   {'svc__C': [1, 10, 100, 1000], 'svc__kernel': ['linear']},\n",
    "#   {'svc__C': [1, 10, 100, 1000], 'svc__gamma': [0.001, 0.0001], 'svc__kernel': ['rbf']},\n",
    "#  ]\n",
    "scores = [\"roc_auc\", \"f1\", \"balanced_accuracy\", \"recall\", \"precision\"]"
   ]
  },
  {
   "cell_type": "code",
   "execution_count": 26,
   "id": "45c10300",
   "metadata": {},
   "outputs": [],
   "source": [
    "svc = SVC()"
   ]
  },
  {
   "cell_type": "code",
   "execution_count": 27,
   "id": "a00780ec",
   "metadata": {},
   "outputs": [],
   "source": [
    "model = make_pipeline(\n",
    "        TemporalFeaturesExtraction(variables=\"earliest_cr_line\"), \n",
    "        ExtractZipCode(),\n",
    "        TargetEncoder(True, handle_missing='missing', handle_unknown='missing'),\n",
    "        ScalerWrapper(),\n",
    "        MissingValuesImputerWarpper(),\n",
    "        adasyn,\n",
    "        ncr,\n",
    "        svc\n",
    "#         sm,\n",
    "#         tl,\n",
    "#         smtomek, \n",
    "#     RandomForestClassifier(\n",
    "#             n_estimators=100, random_state=39, max_depth=3, n_jobs=4\n",
    "#         ),\n",
    "\n",
    ")\n",
    "    \n",
    "    "
   ]
  },
  {
   "cell_type": "code",
   "execution_count": 32,
   "id": "aa50bc71",
   "metadata": {
    "scrolled": false
   },
   "outputs": [
    {
     "name": "stderr",
     "output_type": "stream",
     "text": [
      "/home/main/anaconda3/lib/python3.9/site-packages/sklearn/model_selection/_validation.py:372: FitFailedWarning: \n",
      "165 fits failed out of a total of 500.\n",
      "The score on these train-test partitions for these parameters will be set to nan.\n",
      "If these failures are not expected, you can try to debug them by setting error_score='raise'.\n",
      "\n",
      "Below are more details about the failures:\n",
      "--------------------------------------------------------------------------------\n",
      "33 fits failed with the following error:\n",
      "Traceback (most recent call last):\n",
      "  File \"/home/main/anaconda3/lib/python3.9/site-packages/sklearn/model_selection/_validation.py\", line 680, in _fit_and_score\n",
      "    estimator.fit(X_train, y_train, **fit_params)\n",
      "  File \"/home/main/anaconda3/lib/python3.9/site-packages/imblearn/pipeline.py\", line 272, in fit\n",
      "    self._final_estimator.fit(Xt, yt, **fit_params_last_step)\n",
      "  File \"/home/main/anaconda3/lib/python3.9/site-packages/sklearn/svm/_base.py\", line 215, in fit\n",
      "    raise ValueError(\n",
      "ValueError: Precomputed matrix must be a square matrix. Input is a 7213x27 matrix.\n",
      "\n",
      "--------------------------------------------------------------------------------\n",
      "33 fits failed with the following error:\n",
      "Traceback (most recent call last):\n",
      "  File \"/home/main/anaconda3/lib/python3.9/site-packages/sklearn/model_selection/_validation.py\", line 680, in _fit_and_score\n",
      "    estimator.fit(X_train, y_train, **fit_params)\n",
      "  File \"/home/main/anaconda3/lib/python3.9/site-packages/imblearn/pipeline.py\", line 272, in fit\n",
      "    self._final_estimator.fit(Xt, yt, **fit_params_last_step)\n",
      "  File \"/home/main/anaconda3/lib/python3.9/site-packages/sklearn/svm/_base.py\", line 215, in fit\n",
      "    raise ValueError(\n",
      "ValueError: Precomputed matrix must be a square matrix. Input is a 7132x27 matrix.\n",
      "\n",
      "--------------------------------------------------------------------------------\n",
      "33 fits failed with the following error:\n",
      "Traceback (most recent call last):\n",
      "  File \"/home/main/anaconda3/lib/python3.9/site-packages/sklearn/model_selection/_validation.py\", line 680, in _fit_and_score\n",
      "    estimator.fit(X_train, y_train, **fit_params)\n",
      "  File \"/home/main/anaconda3/lib/python3.9/site-packages/imblearn/pipeline.py\", line 272, in fit\n",
      "    self._final_estimator.fit(Xt, yt, **fit_params_last_step)\n",
      "  File \"/home/main/anaconda3/lib/python3.9/site-packages/sklearn/svm/_base.py\", line 215, in fit\n",
      "    raise ValueError(\n",
      "ValueError: Precomputed matrix must be a square matrix. Input is a 7142x27 matrix.\n",
      "\n",
      "--------------------------------------------------------------------------------\n",
      "33 fits failed with the following error:\n",
      "Traceback (most recent call last):\n",
      "  File \"/home/main/anaconda3/lib/python3.9/site-packages/sklearn/model_selection/_validation.py\", line 680, in _fit_and_score\n",
      "    estimator.fit(X_train, y_train, **fit_params)\n",
      "  File \"/home/main/anaconda3/lib/python3.9/site-packages/imblearn/pipeline.py\", line 272, in fit\n",
      "    self._final_estimator.fit(Xt, yt, **fit_params_last_step)\n",
      "  File \"/home/main/anaconda3/lib/python3.9/site-packages/sklearn/svm/_base.py\", line 215, in fit\n",
      "    raise ValueError(\n",
      "ValueError: Precomputed matrix must be a square matrix. Input is a 7273x27 matrix.\n",
      "\n",
      "--------------------------------------------------------------------------------\n",
      "33 fits failed with the following error:\n",
      "Traceback (most recent call last):\n",
      "  File \"/home/main/anaconda3/lib/python3.9/site-packages/sklearn/model_selection/_validation.py\", line 680, in _fit_and_score\n",
      "    estimator.fit(X_train, y_train, **fit_params)\n",
      "  File \"/home/main/anaconda3/lib/python3.9/site-packages/imblearn/pipeline.py\", line 272, in fit\n",
      "    self._final_estimator.fit(Xt, yt, **fit_params_last_step)\n",
      "  File \"/home/main/anaconda3/lib/python3.9/site-packages/sklearn/svm/_base.py\", line 215, in fit\n",
      "    raise ValueError(\n",
      "ValueError: Precomputed matrix must be a square matrix. Input is a 9774x27 matrix.\n",
      "\n",
      "  warnings.warn(some_fits_failed_message, FitFailedWarning)\n",
      "/home/main/anaconda3/lib/python3.9/site-packages/sklearn/model_selection/_search.py:969: UserWarning: One or more of the test scores are non-finite: [-0.56272633 -0.56076007         nan -0.57635726         nan -0.54512399\n",
      " -0.58783467         nan -0.56324623         nan -0.5746063  -0.57776268\n",
      " -0.57029117 -0.58793735         nan -0.46786919 -0.58415914 -0.56417847\n",
      " -0.57113225 -0.5657717  -0.55482459 -0.58063962 -0.56750982         nan\n",
      " -0.54066495 -0.57237453 -0.57090812         nan         nan -0.58113557\n",
      "         nan -0.56009148         nan -0.569331   -0.58329702 -0.56873593\n",
      " -0.54310936 -0.57725695 -0.58082288 -0.56603095 -0.55807928 -0.56894803\n",
      "         nan -0.57594338 -0.56711051 -0.54053929         nan -0.57937068\n",
      "         nan         nan         nan         nan -0.57256409 -0.57856998\n",
      " -0.57278328 -0.56605998 -0.5737418  -0.55998577 -0.57062321         nan\n",
      " -0.58771896 -0.57578794 -0.57450766 -0.57181874 -0.59309581         nan\n",
      " -0.56502817         nan -0.57993216 -0.58079628         nan         nan\n",
      " -0.5698006          nan -0.57444791 -0.58723473 -0.56866823 -0.53057606\n",
      "         nan         nan -0.56622747 -0.56554068         nan         nan\n",
      " -0.58558652 -0.57414409 -0.57456346         nan         nan -0.57370922\n",
      "         nan         nan         nan -0.58421844 -0.57158872         nan\n",
      " -0.57698019 -0.55468517 -0.58066595         nan]\n",
      "  warnings.warn(\n"
     ]
    },
    {
     "data": {
      "text/plain": [
       "RandomizedSearchCV(cv=<generator object _BaseKFold.split at 0x7f43d0a0a900>,\n",
       "                   estimator=Pipeline(steps=[('temporalfeaturesextraction',\n",
       "                                              TemporalFeaturesExtraction(variables='earliest_cr_line')),\n",
       "                                             ('extractzipcode',\n",
       "                                              ExtractZipCode()),\n",
       "                                             ('targetencoder',\n",
       "                                              TargetEncoder(handle_missing='missing',\n",
       "                                                            handle_unknown='missing',\n",
       "                                                            verbose=True)),\n",
       "                                             ('scalerwrapper', ScalerWrapper()...\n",
       "                   n_iter=100, n_jobs=4,\n",
       "                   param_distributions={'svc__C': <scipy.stats._distn_infrastructure.rv_frozen object at 0x7f43d0d12340>,\n",
       "                                        'svc__class_weight': ['balanced', None],\n",
       "                                        'svc__gamma': <scipy.stats._distn_infrastructure.rv_frozen object at 0x7f43cff6d850>,\n",
       "                                        'svc__kernel': ['rbf', 'sigmoid',\n",
       "                                                        'precomputed']},\n",
       "                   random_state=10,\n",
       "                   scoring=make_scorer(gmean, greater_is_better=False))"
      ]
     },
     "execution_count": 32,
     "metadata": {},
     "output_type": "execute_result"
    }
   ],
   "source": [
    "kfolds = StratifiedKFold(5)\n",
    "\n",
    "# set up the search\n",
    "search = RandomizedSearchCV(model,\n",
    "                            param_grid,\n",
    "                            scoring=gmean_score,\n",
    "                            cv=kfolds.split(X_train, y_train),\n",
    "                            n_iter = 100,\n",
    "                            random_state=10,\n",
    "                            n_jobs=4,\n",
    "                            refit=True)\n",
    "\n",
    "\n",
    "\n",
    "# main_pipe = make_pipeline(model, search)\n",
    "# find best hyperparameters\n",
    "search.fit(X_train, y_train)"
   ]
  },
  {
   "cell_type": "code",
   "execution_count": null,
   "id": "5058fa3f",
   "metadata": {},
   "outputs": [],
   "source": []
  },
  {
   "cell_type": "code",
   "execution_count": 33,
   "id": "b1f94f0e",
   "metadata": {},
   "outputs": [
    {
     "name": "stdout",
     "output_type": "stream",
     "text": [
      "\n",
      "Test roc_auc:  0.4753123734015454\n",
      "\n",
      "\n",
      "The geometric mean is 0.475\n",
      "\n",
      "###########################\n",
      "                     0           1  accuracy    macro avg  weighted avg\n",
      "precision     0.851586    0.125122      0.48     0.488354      0.752424\n",
      "recall        0.481760    0.468864      0.48     0.475312      0.480000\n",
      "f1-score      0.615385    0.197531      0.48     0.406458      0.558348\n",
      "support    1727.000000  273.000000      0.48  2000.000000   2000.000000\n"
     ]
    }
   ],
   "source": [
    "X_test_preds = search.predict(X_test)\n",
    "\n",
    "\n",
    "print()\n",
    "print('Test roc_auc: ', roc_auc_score(y_test, X_test_preds))\n",
    "print()\n",
    "print()\n",
    "print(f\"The geometric mean is {geometric_mean_score(y_test, X_test_preds):.3f}\")\n",
    "print()\n",
    "print(\"###########################\")\n",
    "clf_report = pd.DataFrame(classification_report(y_test, X_test_preds, output_dict=True))\n",
    "print(clf_report)"
   ]
  },
  {
   "cell_type": "code",
   "execution_count": 34,
   "id": "fbd65f32",
   "metadata": {},
   "outputs": [
    {
     "name": "stderr",
     "output_type": "stream",
     "text": [
      "/home/main/anaconda3/lib/python3.9/site-packages/sklearn/utils/deprecation.py:87: FutureWarning: Function plot_confusion_matrix is deprecated; Function `plot_confusion_matrix` is deprecated in 1.0 and will be removed in 1.2. Use one of the class methods: ConfusionMatrixDisplay.from_predictions or ConfusionMatrixDisplay.from_estimator.\n",
      "  warnings.warn(msg, category=FutureWarning)\n"
     ]
    },
    {
     "data": {
      "image/png": "[encoded data removed]",
      "text/plain": [
       "<Figure size 1440x720 with 2 Axes>"
      ]
     },
     "metadata": {
      "needs_background": "light"
     },
     "output_type": "display_data"
    }
   ],
   "source": [
    "\n",
    "plot_confusion_matrix(search.best_estimator_, X_test, y_test);\n",
    "plt.show();"
   ]
  },
  {
   "cell_type": "code",
   "execution_count": null,
   "id": "14988f67",
   "metadata": {},
   "outputs": [],
   "source": []
  },
  {
   "cell_type": "code",
   "execution_count": null,
   "id": "a05c815a",
   "metadata": {},
   "outputs": [],
   "source": []
  },
  {
   "cell_type": "code",
   "execution_count": null,
   "id": "d4fb72ec",
   "metadata": {},
   "outputs": [],
   "source": []
  },
  {
   "cell_type": "code",
   "execution_count": null,
   "id": "ba48be93",
   "metadata": {},
   "outputs": [],
   "source": []
  },
  {
   "cell_type": "code",
   "execution_count": 52,
   "id": "5648fcde",
   "metadata": {},
   "outputs": [],
   "source": [
    "from sklearn.pipeline import Pipeline\n",
    "from sklearn.ensemble import StackingClassifier\n",
    "\n",
    "from sklearn.ensemble import VotingClassifier\n",
    "p1 = Pipeline([['clf1', SVC()]])\n",
    "p2 = Pipeline([['clf2', LogisticRegression()]])\n",
    "p3 = Pipeline([['clf3', GradientBoostingClassifier()]])\n",
    "p4 = Pipeline([['clf4', RandomForestClassifier()]])\n",
    "p5 = Pipeline([['clf5', StackingClassifier(estimators=[\n",
    "                            (\"p1\",p1),\n",
    "                            (\"p2\",p2),\n",
    "                            (\"p3\",p3),\n",
    "                            (\"p4\",p4),\n",
    "                                                    \n",
    "\n",
    "                            \n",
    "\n",
    "\n",
    "                                                    ])]])"
   ]
  },
  {
   "cell_type": "code",
   "execution_count": null,
   "id": "80ac14e3",
   "metadata": {},
   "outputs": [],
   "source": []
  },
  {
   "cell_type": "code",
   "execution_count": 54,
   "id": "f3fcb0f5",
   "metadata": {},
   "outputs": [
    {
     "name": "stdout",
     "output_type": "stream",
     "text": [
      "\n",
      "Test roc_auc:  0.5793770984853788\n",
      "\n",
      "The geometric mean is 0.476\n",
      "\n",
      "###########################\n",
      "                     0           1  accuracy    macro avg  weighted avg\n",
      "precision     0.884572    0.303571    0.8195     0.594072      0.805265\n",
      "recall        0.909670    0.249084    0.8195     0.579377      0.819500\n",
      "f1-score      0.896945    0.273642    0.8195     0.585294      0.811865\n",
      "support    1727.000000  273.000000    0.8195  2000.000000   2000.000000\n",
      "@@@@@@@@@@@@@@@@@@@@@@@@@@@@@@@@@@@@@@@@@@@@@@\n",
      "\n"
     ]
    },
    {
     "name": "stderr",
     "output_type": "stream",
     "text": [
      "/home/main/anaconda3/lib/python3.9/site-packages/sklearn/utils/deprecation.py:87: FutureWarning: Function plot_confusion_matrix is deprecated; Function `plot_confusion_matrix` is deprecated in 1.0 and will be removed in 1.2. Use one of the class methods: ConfusionMatrixDisplay.from_predictions or ConfusionMatrixDisplay.from_estimator.\n",
      "  warnings.warn(msg, category=FutureWarning)\n"
     ]
    },
    {
     "data": {
      "image/png": "[encoded data removed]",
      "text/plain": [
       "<Figure size 1440x720 with 2 Axes>"
      ]
     },
     "metadata": {
      "needs_background": "light"
     },
     "output_type": "display_data"
    }
   ],
   "source": [
    "model_pipe = make_pipeline(\n",
    "        TemporalFeaturesExtraction(variables=\"earliest_cr_line\"), \n",
    "        ExtractZipCode(),\n",
    "        TargetEncoder(True, handle_missing='missing', handle_unknown='missing'),\n",
    "        ScalerWrapper(),\n",
    "        MissingValuesImputerWarpper(),\n",
    "        adasyn,\n",
    "        ncr,\n",
    "        p5\n",
    "#         sm,\n",
    "#         tl,\n",
    "#         smtomek, \n",
    "#     RandomForestClassifier(\n",
    "#             n_estimators=100, random_state=39, max_depth=3, n_jobs=4\n",
    "#         ),\n",
    "\n",
    ")\n",
    "\n",
    "clf = model_pipe.fit(X_train, y_train) \n",
    "\n",
    "X_test_preds = clf.predict(X_test)\n",
    "\n",
    "print()\n",
    "print('Test roc_auc: ', roc_auc_score(y_test, X_test_preds))\n",
    "print()\n",
    "print(f\"The geometric mean is {geometric_mean_score(y_test, X_test_preds):.3f}\")\n",
    "print()\n",
    "print(\"###########################\")\n",
    "clf_report_ = pd.DataFrame(classification_report(y_test, X_test_preds, output_dict=True))\n",
    "print(clf_report_)\n",
    "print(\"@@@@@@@@@@@@@@@@@@@@@@@@@@@@@@@@@@@@@@@@@@@@@@\")\n",
    "print()\n",
    "\n",
    "\n",
    "matplotlib.rc('figure', figsize=(20, 10));\n",
    "\n",
    "plot_confusion_matrix(clf, X_test, y_test);"
   ]
  },
  {
   "cell_type": "code",
   "execution_count": null,
   "id": "fdfa9bf8",
   "metadata": {},
   "outputs": [],
   "source": []
  },
  {
   "cell_type": "code",
   "execution_count": null,
   "id": "21ca5043",
   "metadata": {},
   "outputs": [],
   "source": []
  },
  {
   "cell_type": "code",
   "execution_count": null,
   "id": "1967adc4",
   "metadata": {},
   "outputs": [],
   "source": []
  }
 ],
 "metadata": {
  "kernelspec": {
   "display_name": "Python 3 (ipykernel)",
   "language": "python",
   "name": "python3"
  },
  "language_info": {
   "codemirror_mode": {
    "name": "ipython",
    "version": 3
   },
   "file_extension": ".py",
   "mimetype": "text/x-python",
   "name": "python",
   "nbconvert_exporter": "python",
   "pygments_lexer": "ipython3",
   "version": "3.9.7"
  }
 },
 "nbformat": 4,
 "nbformat_minor": 5
}
